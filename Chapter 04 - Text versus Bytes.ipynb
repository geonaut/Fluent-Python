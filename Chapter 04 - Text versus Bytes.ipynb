{
 "cells": [
  {
   "cell_type": "markdown",
   "metadata": {},
   "source": [
    "# Text versus Bytes\n",
    "\n",
    "Python 3 drew distinction between strings of human text and sequences of raw bytes.\n",
    "\n",
    "## What is a character?\n",
    "\n",
    "Python 3 => str = unicode characters & is similar to Py2 unicode object\n",
    "- ---------------------------------\n",
    "Python 2 => unicode object = unicode characters\n",
    "\n",
    "Python 2 => str = raw bytes\n",
    "\n",
    "The Unicode standard explicitly separates the identity of characters from specific byte representations.\n",
    "\n",
    "-  Unicode code point is a number from 0 to 1,114,111 (base 10)\n",
    "-  Represented in the Unicode standard as 4 to 6 hexadecimal digits with a “U+” prefix.\n",
    "-  About 10% of the valid code points have characters assigned to them\n",
    "-  The actual bytes that represent a character depend on the encoding in use, where encoding is an algorithm that converts code points to byte sequences and vice-versa. \n",
    "    -  The code point for A (U+0041) = \\x41 in the UTF-8 encoding & \\x41\\x00 in UTF-16LE encoding."
   ]
  },
  {
   "cell_type": "code",
   "execution_count": 14,
   "metadata": {
    "collapsed": false
   },
   "outputs": [
    {
     "name": "stdout",
     "output_type": "stream",
     "text": [
      "4\n",
      "b'caf\\xc3\\xa9'\n",
      "5\n",
      "café\n"
     ]
    }
   ],
   "source": [
    "#cafe, with a extended ASCII character\n",
    "s = 'café'\n",
    "#has 4 unicode characters\n",
    "print(len(s))\n",
    "#change encoding to UTF-8\n",
    "b = s.encode('utf8')\n",
    "print(b)\n",
    "#now é is represented by 2 bytes, so len = 5\n",
    "print(len(b))\n",
    "print(b.decode('utf8'))"
   ]
  },
  {
   "cell_type": "markdown",
   "metadata": {},
   "source": [
    "## New binary sequences in Py3\n",
    "\n",
    "-  bytes (Immutable - items are int 0-255)\n",
    "-  bytearray (Mutable - items are int 0-255"
   ]
  },
  {
   "cell_type": "code",
   "execution_count": 28,
   "metadata": {
    "collapsed": false
   },
   "outputs": [
    {
     "name": "stdout",
     "output_type": "stream",
     "text": [
      "b'caf\\xc3\\xa9'\n",
      "99\n",
      "b'c'\n",
      "bytearray(b'caf\\xc3\\xa9')\n",
      "5\n",
      "bytearray(b'\\xa9')\n"
     ]
    }
   ],
   "source": [
    "#create a byte string using \\xc3\\xa9 for é (not \\xcc\\x81!!)\n",
    "cafe = bytes('café', encoding='utf_8')\n",
    "#prints as utf-8 byte literals - NOT code point, which starts with U+\n",
    "print(cafe)\n",
    "#prints first character, but represented as ASCII decimal. C = 99 in ASCII decimal\n",
    "print(cafe[0])\n",
    "# slice produces output of same type\n",
    "print(cafe[:1])\n",
    "cafe_arr = bytearray(cafe)\n",
    "#byte array displays as bytearray(b....). \"caf\" are in the ASCII range, so printed\n",
    "print(cafe_arr)\n",
    "#cafe_arr has 5 bytes - 2 for é\n",
    "print(len(cafe_arr))\n",
    "#... , so the last item in a bytestring is the last of the 2 é bytes - i.e. \\xa9\n",
    "print(cafe_arr[-1:])"
   ]
  },
  {
   "cell_type": "markdown",
   "metadata": {},
   "source": [
    "-  For bytes in the printable ASCII range — from space to ~ — the ASCII character itself is used.\n",
    "-  For bytes corresponding to tab, newline, carriage return and \\, the escape sequences \\t, \\n, \\r and \\\\ are used.\n",
    "-  For every other byte value, an hexadecimal escape sequence is used, e.g. \\x00 is the null byte.\n",
    "\n",
    "Both bytes and bytearray support every str method except those that do formatting (format, format_map). This means that you can use familiar string methods like endswith, replace, strip, translate, upper etc.\n",
    "\n",
    "The other ways of building bytes or bytearray instances are calling their constructors with:\n",
    "-  a str and an encoding keyword argument.\n",
    "-  an iterable providing items with values from 0 to 255.\n",
    "-  a single integer, to create a binary sequence of that size initialized with null bytes3.\n",
    "-  an object that implements the buffer protocol (eg. bytes, bytearray, memoryview, array.array); this copies the bytes from the source object to the newly created binary sequence."
   ]
  },
  {
   "cell_type": "code",
   "execution_count": 30,
   "metadata": {
    "collapsed": false
   },
   "outputs": [
    {
     "name": "stdout",
     "output_type": "stream",
     "text": [
      "b'1K\\xce\\xa9'\n"
     ]
    },
    {
     "data": {
      "text/plain": [
       "b'\\xfe\\xff\\xff\\xff\\x00\\x00\\x01\\x00\\x02\\x00'"
      ]
     },
     "execution_count": 30,
     "metadata": {},
     "output_type": "execute_result"
    }
   ],
   "source": [
    "#printing from Hex to UTF-8\n",
    "print(bytes.fromhex('31 4B CE A9'))\n",
    "\n",
    "# Initializing bytes from the raw data of an array.\n",
    "import array\n",
    "numbers = array.array('h', [-2, -1, 0, 1, 2]) \n",
    "octets = bytes(numbers)\n",
    "octets"
   ]
  },
  {
   "cell_type": "markdown",
   "metadata": {},
   "source": [
    "## Structs and memory views\n",
    "\n"
   ]
  }
 ],
 "metadata": {
  "kernelspec": {
   "display_name": "Python 3",
   "language": "python",
   "name": "python3"
  },
  "language_info": {
   "codemirror_mode": {
    "name": "ipython",
    "version": 3
   },
   "file_extension": ".py",
   "mimetype": "text/x-python",
   "name": "python",
   "nbconvert_exporter": "python",
   "pygments_lexer": "ipython3",
   "version": "3.6.0"
  }
 },
 "nbformat": 4,
 "nbformat_minor": 2
}
