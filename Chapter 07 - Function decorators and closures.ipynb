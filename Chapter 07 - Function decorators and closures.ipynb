{
 "cells": [
  {
   "cell_type": "markdown",
   "metadata": {},
   "source": [
    "# Function decorators and closures\n",
    "\n",
    "Function decorators let us “mark” functions in the source code to enhance their behavior is some way. This is powerful stuff, but mastering it requires understanding closures.\n",
    "\n",
    "Aside from their application in decorators, closures are also essential for effective asyn‐ chronous programming with callbacks, and for coding in a functional style whenever it makes sense.\n",
    "\n",
    "## Decorators\n",
    "\n",
    "A decorator is a callable that takes another function as argument. Strictly speaking, decorators are just syntactic sugar. The second crucial fact is that they are executed immediately when a module is loaded."
   ]
  },
  {
   "cell_type": "code",
   "execution_count": 39,
   "metadata": {
    "collapsed": false
   },
   "outputs": [
    {
     "name": "stdout",
     "output_type": "stream",
     "text": [
      "running inner()\n",
      "None\n",
      "<function deco.<locals>.inner at 0x11174f620>\n"
     ]
    }
   ],
   "source": [
    "#@decorate\n",
    "#def target():\n",
    "#    print('running target()')\n",
    "    \n",
    "#Has the same effect as writing this:\n",
    "\n",
    "#def target():\n",
    "#    print('running target()')\n",
    "    \n",
    "#target = decorate(target)\n",
    "\n",
    "#live example\n",
    "\n",
    "def deco(func):\n",
    "    def inner():\n",
    "        print('running inner()')\n",
    "    #deco just returns inner()\n",
    "    return inner\n",
    "\n",
    "#deco used as a decorator\n",
    "@deco\n",
    "def target():\n",
    "    print('running target()')\n",
    "\n",
    "#instantiating target points to inner()\n",
    "print(target())\n",
    "#target is now therefore a reference to inner\n",
    "print(target)"
   ]
  },
  {
   "cell_type": "code",
   "execution_count": null,
   "metadata": {
    "collapsed": true
   },
   "outputs": [],
   "source": [
    "## Closure example - How to create a closure?\n",
    "\n",
    "-  create a nested function\n",
    "-  nested function has to refer to a variable defined inside the enclosing function\n",
    "-  enclosing function has to return the nested function"
   ]
  },
  {
   "cell_type": "code",
   "execution_count": 40,
   "metadata": {
    "collapsed": false
   },
   "outputs": [
    {
     "name": "stdout",
     "output_type": "stream",
     "text": [
      "x = 5\n",
      "y = 5\n",
      "10\n",
      "x = 10\n",
      "y = 5\n",
      "15\n"
     ]
    }
   ],
   "source": [
    "def makeInc(x):\n",
    "    \n",
    "    def inc(y):\n",
    "        # x is \"closed\" in the definition of inc\n",
    "        print(\"y = %d\" %y)\n",
    "        return y + x\n",
    "\n",
    "    print(\"x = %d\" %x)\n",
    "    return inc\n",
    "\n",
    "#instantiate makeInc, with x as 5\n",
    "inc5 = makeInc(5)\n",
    "print(inc5(5)) # returns 10\n",
    "\n",
    "#instantiate makeInc, with x as 10\n",
    "inc10 = makeInc(10)\n",
    "print(inc10(5)) # returns 15"
   ]
  },
  {
   "cell_type": "code",
   "execution_count": 45,
   "metadata": {
    "collapsed": false
   },
   "outputs": [
    {
     "name": "stdout",
     "output_type": "stream",
     "text": [
      "running register function (<function f1 at 0x111757f28>)\n",
      "running register function (<function f2 at 0x1117579d8>)\n",
      "running main()\n",
      "registry -> [<function f1 at 0x111757f28>, <function f2 at 0x1117579d8>]\n",
      "running f1()\n",
      "running f2()\n",
      "running f3()\n"
     ]
    }
   ],
   "source": [
    "#registry will hold references to functions decorated by @register\n",
    "registry = []\n",
    "\n",
    "#register takes a function as argument.\n",
    "def register(func):\n",
    "    #Display what function is being decorated, for demonstration\n",
    "    print('running register function (%s)' % func)\n",
    "    #Append func to registry list\n",
    "    registry.append(func)\n",
    "    #Return func: we must return a function, here we return the same received as argument.\n",
    "    return func\n",
    "\n",
    "#f1 and f2 are decorated by @register\n",
    "@register\n",
    "def f1():\n",
    "    print('running f1()')\n",
    "    \n",
    "@register\n",
    "def f2():\n",
    "    print('running f2()')\n",
    "\n",
    "#f3 is not decorated.\n",
    "def f3():\n",
    "    print('running f3()')\n",
    "\n",
    "#main displays the registry, then calls f1(), f2() and f3().\n",
    "def main():\n",
    "    print('running main()') \n",
    "    print('registry ->', registry) \n",
    "    f1()\n",
    "    f2()\n",
    "    f3()\n",
    "    \n",
    "if __name__=='__main__': main()\n",
    "    \n",
    "#If registration.py is imported (and not run as a script), the output is this:\n",
    "#>>> import registration\n",
    "#running register(<function f1 at 0x10063b1e0>) \n",
    "#running register(<function f2 at 0x10063b268>)"
   ]
  },
  {
   "cell_type": "markdown",
   "metadata": {},
   "source": [
    "## Decorator-enhanced Strategy pattern\n",
    "\n"
   ]
  },
  {
   "cell_type": "code",
   "execution_count": 53,
   "metadata": {
    "collapsed": false
   },
   "outputs": [
    {
     "name": "stdout",
     "output_type": "stream",
     "text": [
      "3\n",
      "6\n"
     ]
    }
   ],
   "source": [
    "promos = []\n",
    "\n",
    "\n",
    "def promotion(promo_func):\n",
    "    promos.append(promo_func)\n",
    "    return promo_func\n",
    "\n",
    "\n",
    "@promotion\n",
    "def fidelity(order):\n",
    "    \"\"\"5% discount for customers with 1000 or more fidelity points\"\"\"\n",
    "    return order.total() * .05 if order.customer.fidelity >= 1000 else 0\n",
    "\n",
    "\n",
    "@promotion\n",
    "def bulk_item(order):\n",
    "    \"\"\"10% discount for each LineItem with 20 or more units\"\"\" \n",
    "    discount = 0\n",
    "    for item in order.cart:\n",
    "        if item.quantity >= 20:\n",
    "            discount += item.total() * .1\n",
    "    return discount\n",
    "\n",
    "\n",
    "@promotion\n",
    "def large_order(order):\n",
    "    \"\"\"7% discount for orders with 10 or more distinct items\"\"\"\n",
    "    distinct_items = {item.product for item in order.cart}\n",
    "    if len(distinct_items) >= 10:\n",
    "        return order.total() * .07 \n",
    "    return 0\n",
    "\n",
    "\n",
    "def best_promo(order):\n",
    "    \"\"\"Select best discount available\"\"\"\n",
    "    return max(promo(order) for promo in promos)\n",
    "\n",
    "b=6\n",
    "def f2(a):\n",
    "    print(a)\n",
    "    print(b)\n",
    "    #if b is deleted, the function will fetch it from the global scope\n",
    "#     b=9\n",
    "\n",
    "# when Python compiles the body of the function, it decides that b is a local variable \n",
    "# because it is assigned within the function. \n",
    "# The generated bytecode reflects this decision and will try to fetch b from the local environment. \n",
    "# aka UnboundLocalError: local variable 'b' referenced before assignment\n",
    "f2(3)\n"
   ]
  },
  {
   "cell_type": "markdown",
   "metadata": {},
   "source": [
    "## Closures\n",
    "\n",
    "A closure is function with an extended scope that encompasses non-global variables referenced in the body of the function but not defined there. It does not matter whether the function is anonymous or not, what matters is that it can access non-global variables that are defined outside of its body."
   ]
  },
  {
   "cell_type": "code",
   "execution_count": 71,
   "metadata": {
    "collapsed": false
   },
   "outputs": [
    {
     "name": "stdout",
     "output_type": "stream",
     "text": [
      "10.0\n",
      "30.0\n",
      "33.333333333333336\n",
      "10.0\n",
      "30.0\n",
      "33.333333333333336\n",
      "('new_value', 'total')\n",
      "('series',)\n",
      "10.0\n"
     ]
    }
   ],
   "source": [
    "class Averager():\n",
    "    def __init__(self):\n",
    "        self.series = []\n",
    "        \n",
    "    def __call__(self, new_value): \n",
    "        self.series.append(new_value) \n",
    "        total = sum(self.series) \n",
    "        return total/len(self.series)\n",
    "\n",
    "avg = Averager()\n",
    "print(avg(10))\n",
    "print(avg(50))\n",
    "print(avg(40))\n",
    "\n",
    "def make_averager():\n",
    "    series = []\n",
    "    \n",
    "    def averager(new_value):\n",
    "        #Within averager, series is a free variable. \n",
    "        series.append(new_value) \n",
    "        total = sum(series) \n",
    "        return total/len(series)\n",
    "    \n",
    "    return averager\n",
    "\n",
    "avg2 = make_averager()\n",
    "print(avg2(10))\n",
    "print(avg2(50))\n",
    "print(avg2(40))\n",
    "print(avg2.__code__.co_varnames)\n",
    "print(avg2.__code__.co_freevars)\n",
    "\n",
    "def make_averager2(): \n",
    "    count = 0\n",
    "    total = 0\n",
    "    \n",
    "    def averager(new_value):\n",
    "        #count is being called, but it is only in the local scope, so has not yet been assigned\n",
    "        #if nonlocal is used, Python knows to look outside the local scope\n",
    "        nonlocal count, total\n",
    "        count += 1\n",
    "        total += new_value \n",
    "        return total / count\n",
    "    \n",
    "    return averager\n",
    "\n",
    "avg3 = make_averager2()\n",
    "#throws UnboundLocalError: local variable 'count' referenced before assignment, when nonlocal is missing\n",
    "print(avg3(10))"
   ]
  },
  {
   "cell_type": "code",
   "execution_count": 77,
   "metadata": {
    "collapsed": false
   },
   "outputs": [
    {
     "name": "stdout",
     "output_type": "stream",
     "text": [
      "**************************************** Calling snooze(.123)\n",
      "[0.12658882s] snooze(0.123) -> None \n",
      "**************************************** Calling factorial(6)\n",
      "[0.00000119s] factorial(1) -> 1 \n",
      "[0.00015378s] factorial(2) -> 2 \n",
      "[0.00022388s] factorial(3) -> 6 \n",
      "[0.00028610s] factorial(4) -> 24 \n",
      "[0.00036502s] factorial(5) -> 120 \n",
      "[0.00059915s] factorial(6) -> 720 \n",
      "6! = 720\n"
     ]
    }
   ],
   "source": [
    "import time\n",
    "import functools\n",
    "\n",
    "def clock(func):\n",
    "    @functools.wraps(func)\n",
    "    def clocked(*args, **kwargs):\n",
    "        t0 = time.time()\n",
    "        result = func(*args, **kwargs) \n",
    "        elapsed = time.time() - t0 \n",
    "        name = func.__name__\n",
    "        arg_lst = []\n",
    "        if args:\n",
    "            arg_lst.append(', '.join(repr(arg) for arg in args)) \n",
    "        if kwargs:\n",
    "            pairs = ['%s=%r' % (k, w) for k, w in sorted(kwargs.items())]\n",
    "            arg_lst.append(', '.join(pairs))\n",
    "        arg_str = ', '.join(arg_lst)\n",
    "        print('[%0.8fs] %s(%s) -> %r ' % (elapsed, name, arg_str, result)) \n",
    "        return result\n",
    "    return clocked\n",
    "\n",
    "@clock\n",
    "def snooze(seconds): time.sleep(seconds)\n",
    "\n",
    "#From now on, each time factorial(n) is called, clocked(n) gets executed\n",
    "@clock\n",
    "def factorial(n):\n",
    "    return 1 if n < 2 else n*factorial(n-1)\n",
    "\n",
    "if __name__=='__main__':\n",
    "    print('*' * 40, 'Calling snooze(.123)') \n",
    "    snooze(.123)\n",
    "    print('*' * 40, 'Calling factorial(6)') \n",
    "    print('6! =', factorial(6))\n"
   ]
  },
  {
   "cell_type": "markdown",
   "metadata": {},
   "source": [
    "## Decorators in the standard library\n",
    "\n",
    "Python has three built-in functions that are designed to decorate methods: property, classmethod and staticmethod. \n",
    "\n",
    "### Memoization with functools.lru_cache\n",
    "\n",
    "A very practical decorator is functools.lru_cache. It implements memoization: an optimization technique which works by saving the results of previous invocations of an expensive function, avoiding repeat computations on previously used arguments. The letters LRU stand for Least Recently Used, meaning that the growth of the cache is limited by discarding the entries that have not been read for a while."
   ]
  },
  {
   "cell_type": "code",
   "execution_count": 82,
   "metadata": {
    "collapsed": false
   },
   "outputs": [
    {
     "name": "stdout",
     "output_type": "stream",
     "text": [
      "[0.00000119s] fibonacci(0) -> 0 \n",
      "[0.00000095s] fibonacci(1) -> 1 \n",
      "[0.00046587s] fibonacci(2) -> 1 \n",
      "[0.00000000s] fibonacci(1) -> 1 \n",
      "[0.00000072s] fibonacci(0) -> 0 \n",
      "[0.00000119s] fibonacci(1) -> 1 \n",
      "[0.00008774s] fibonacci(2) -> 1 \n",
      "[0.00020289s] fibonacci(3) -> 2 \n",
      "[0.00088596s] fibonacci(4) -> 3 \n",
      "[0.00000095s] fibonacci(1) -> 1 \n",
      "[0.00000000s] fibonacci(0) -> 0 \n",
      "[0.00000119s] fibonacci(1) -> 1 \n",
      "[0.00016093s] fibonacci(2) -> 1 \n",
      "[0.00043392s] fibonacci(3) -> 2 \n",
      "[0.00000000s] fibonacci(0) -> 0 \n",
      "[0.00000095s] fibonacci(1) -> 1 \n",
      "[0.00006676s] fibonacci(2) -> 1 \n",
      "[0.00000119s] fibonacci(1) -> 1 \n",
      "[0.00000000s] fibonacci(0) -> 0 \n",
      "[0.00000000s] fibonacci(1) -> 1 \n",
      "[0.00006104s] fibonacci(2) -> 1 \n",
      "[0.00012112s] fibonacci(3) -> 2 \n",
      "[0.00024986s] fibonacci(4) -> 3 \n",
      "[0.00076199s] fibonacci(5) -> 5 \n",
      "[0.00172329s] fibonacci(6) -> 8 \n",
      "8\n",
      "[0.00000000s] fibonacci2(0) -> 0 \n",
      "[0.00000095s] fibonacci2(1) -> 1 \n",
      "[0.00027204s] fibonacci2(2) -> 1 \n",
      "[0.00000215s] fibonacci2(3) -> 2 \n",
      "[0.00058532s] fibonacci2(4) -> 3 \n",
      "[0.00000215s] fibonacci2(5) -> 5 \n",
      "[0.00085998s] fibonacci2(6) -> 8 \n",
      "8\n"
     ]
    }
   ],
   "source": [
    "def clock(func):\n",
    "    @functools.wraps(func)\n",
    "    def clocked(*args, **kwargs):\n",
    "        t0 = time.time()\n",
    "        result = func(*args, **kwargs) \n",
    "        elapsed = time.time() - t0 \n",
    "        name = func.__name__\n",
    "        arg_lst = []\n",
    "        if args:\n",
    "            arg_lst.append(', '.join(repr(arg) for arg in args)) \n",
    "        if kwargs:\n",
    "            pairs = ['%s=%r' % (k, w) for k, w in sorted(kwargs.items())]\n",
    "            arg_lst.append(', '.join(pairs))\n",
    "        arg_str = ', '.join(arg_lst)\n",
    "        print('[%0.8fs] %s(%s) -> %r ' % (elapsed, name, arg_str, result)) \n",
    "        return result\n",
    "    return clocked\n",
    "\n",
    "@clock\n",
    "def fibonacci(n):\n",
    "    #fibonacci(1) is called 8 times, fibonacci(2) 5 times\n",
    "    if n < 2:\n",
    "        return n\n",
    "    return fibonacci(n-2) + fibonacci(n-1)\n",
    "\n",
    "if __name__=='__main__': \n",
    "    print(fibonacci(6))\n",
    "    \n",
    "import functools\n",
    "\n",
    "\n",
    "@functools.lru_cache() # \n",
    "@clock #\n",
    "def fibonacci2(n):\n",
    "    if n < 2: \n",
    "        return n\n",
    "    return fibonacci2(n-2) + fibonacci2(n-1) \n",
    "\n",
    "if __name__=='__main__':\n",
    "    print(fibonacci2(6))"
   ]
  },
  {
   "cell_type": "markdown",
   "metadata": {},
   "source": [
    "## Generic functions with single dispatch\n",
    "\n",
    "The new functools.singledispatch decorator in Python 3.4 allows each module to contribute to the overall solution, and lets you easily provide a specialized function even for classes that you can’t edit. If you decorate a plain function with @singledispatch it becomes a generic function: a group of functions to perform the same operation in different ways, depending on the type of the first argument.\n",
    "\n",
    "A notable quality of the singledispatch mechanism is that you can register specialized functions anywhere in the system, in any module. If you later add a module with a new user-defined type, you can easily provide a new custom function to handle that type. And you can write custom functions for classes that you did not write and can’t change."
   ]
  },
  {
   "cell_type": "code",
   "execution_count": 87,
   "metadata": {
    "collapsed": false
   },
   "outputs": [
    {
     "name": "stdout",
     "output_type": "stream",
     "text": [
      "<pre>{1, 2, 3}</pre>\n",
      "<pre>&lt;built-in function abs&gt;</pre>\n",
      "<ul>\n",
      "<li><p>alpha</p></li>\n",
      "<li><pre>66 (0x42)</pre></li>\n",
      "<li><pre>{1, 2, 3}</pre></li>\n",
      "</ul>\n"
     ]
    }
   ],
   "source": [
    "from functools import singledispatch \n",
    "from collections import abc\n",
    "import numbers\n",
    "import html\n",
    "\n",
    "#@singledispatch marks the base function which handles the object type.\n",
    "@singledispatch\n",
    "def htmlize(obj):\n",
    "    content = html.escape(repr(obj)) \n",
    "    return '<pre>{}</pre>'.format(content)\n",
    "\n",
    "#Each specialized function is decorated with @«base_function».register(«type»).\n",
    "@htmlize.register(str)\n",
    "#The name of the specialized functions is irrelevant; _ is a good choice to make this clear.\n",
    "def _(text):\n",
    "    content = html.escape(text).replace('\\n', '<br>\\n') \n",
    "    return '<p>{0}</p>'.format(content)\n",
    "\n",
    "#For each additional type to receive special treatment, register a new function.\n",
    "#numbers.Integral is a virtual superclass of int (see below).\n",
    "@htmlize.register(numbers.Integral) \n",
    "def _(n):\n",
    "    return '<pre>{0} (0x{0:x})</pre>'.format(n)\n",
    "\n",
    "#You can stack several register decorators to support different types with the\n",
    "#same function.\n",
    "@htmlize.register(tuple) \n",
    "@htmlize.register(abc.MutableSequence) \n",
    "def _(seq):\n",
    "    inner = '</li>\\n<li>'.join(htmlize(item) for item in seq) \n",
    "    return '<ul>\\n<li>' + inner + '</li>\\n</ul>'\n",
    "\n",
    "print(htmlize({1, 2, 3}))\n",
    "print(htmlize(abs))\n",
    "print(htmlize(['alpha', 66, {3, 2, 1}]))"
   ]
  },
  {
   "cell_type": "markdown",
   "metadata": {},
   "source": [
    "## Parametrized Decorators\n",
    "\n",
    "When parsing a decorator in source code, Python takes the decorated function and passes it as the first argument to the decorator function."
   ]
  },
  {
   "cell_type": "code",
   "execution_count": 94,
   "metadata": {
    "collapsed": false
   },
   "outputs": [
    {
     "name": "stdout",
     "output_type": "stream",
     "text": [
      "running register(active=False)->decorate(<function f1 at 0x111736840>)\n",
      "FALSE\n",
      "running register(active=True)->decorate(<function f2 at 0x111757840>)\n",
      "TRUE\n",
      "{<function f2 at 0x111757840>}\n",
      "running register(active=True)->decorate(<function f3 at 0x111757158>)\n",
      "TRUE\n",
      "{<function f2 at 0x111757840>, <function f3 at 0x111757158>}\n",
      "running register(active=False)->decorate(<function f2 at 0x111757840>)\n",
      "FALSE\n",
      "{<function f3 at 0x111757158>}\n"
     ]
    }
   ],
   "source": [
    "#registry is now a set, so adding and removing functions is faster.\n",
    "registry = set()\n",
    "\n",
    "#register takes an optional keyword argument.\n",
    "def register(active=True):\n",
    "        #The decorate inner function is the actual decorator; note how it takes a function as argument.\n",
    "        def decorate(func):\n",
    "            print('running register(active=%s)->decorate(%s)' % (active, func))\n",
    "            #Register func only if the active argument (retrieved from the closure) is True.\n",
    "            if active:\n",
    "                print(\"TRUE\")\n",
    "                registry.add(func)\n",
    "            else:\n",
    "                print(\"FALSE\")\n",
    "                #If not active and func in registry, remove it.\n",
    "                registry.discard(func)\n",
    "            \n",
    "            #Because decorate is a decorator, it must return a function.\n",
    "            return func\n",
    "        #register is our decorator factory, so it returns decorate.\n",
    "        return decorate\n",
    "    \n",
    "@register(active=False) \n",
    "def f1():\n",
    "    print('running f1()')\n",
    "    \n",
    "@register() \n",
    "def f2():\n",
    "    print('running f2()')\n",
    "    \n",
    "def f3():\n",
    "    print('running f3()')\n",
    "\n",
    "#only f2 is added to the registry\n",
    "print(registry)\n",
    "#f3 is added\n",
    "register()(f3)\n",
    "print(registry)\n",
    "#f2 is removed\n",
    "register(active=False)(f2)\n",
    "print(registry)"
   ]
  },
  {
   "cell_type": "code",
   "execution_count": 97,
   "metadata": {
    "collapsed": false
   },
   "outputs": [
    {
     "name": "stdout",
     "output_type": "stream",
     "text": [
      "[0.12328005s] snooze(0.123) -> None\n",
      "[0.12703919s] snooze(0.123) -> None\n",
      "[0.12393713s] snooze(0.123) -> None\n"
     ]
    }
   ],
   "source": [
    "import time\n",
    "\n",
    "DEFAULT_FMT = '[{elapsed:0.8f}s] {name}({args}) -> {result}'\n",
    "\n",
    "#clock is our parametrized decorator factory.\n",
    "def clock(fmt=DEFAULT_FMT):\n",
    "    #decorate is the actual decorator.\n",
    "    def decorate(func):\n",
    "        #clocked wraps the decorated function.\n",
    "        def clocked(*_args):\n",
    "            t0 = time.time()\n",
    "            _result = func(*_args) \n",
    "            elapsed = time.time() - t0 \n",
    "            name = func.__name__\n",
    "            args = ', '.join(repr(arg) for arg in _args) \n",
    "            result = repr(_result) \n",
    "            print(fmt.format(**locals()))\n",
    "            return _result\n",
    "        return clocked \n",
    "    return decorate\n",
    "    \n",
    "if __name__ == '__main__':\n",
    "    \n",
    "    @clock()\n",
    "    def snooze(seconds):\n",
    "        time.sleep(seconds) \n",
    "    \n",
    "    for i in range(3):\n",
    "            snooze(.123)"
   ]
  }
 ],
 "metadata": {
  "kernelspec": {
   "display_name": "Python 3",
   "language": "python",
   "name": "python3"
  },
  "language_info": {
   "codemirror_mode": {
    "name": "ipython",
    "version": 3
   },
   "file_extension": ".py",
   "mimetype": "text/x-python",
   "name": "python",
   "nbconvert_exporter": "python",
   "pygments_lexer": "ipython3",
   "version": "3.6.0"
  }
 },
 "nbformat": 4,
 "nbformat_minor": 2
}
