{
 "cells": [
  {
   "cell_type": "markdown",
   "metadata": {
    "raw_mimetype": "text/markdown"
   },
   "source": [
    "## The Python Data Model\n",
    "\n",
    "The Python data model formalizes the interfaces of the building blocks of the language. The Python interpreter invokes special methods to perform basic object operations. The special method names are always spelled with leading and trailing double underscores, i.e. `__getitem__`.\n",
    "\n",
    "The special method names allow your objects to interact with basic language constructs such as:\n",
    "-  iteration\n",
    "    -  **for**\n",
    "    -  **while**\n",
    "-  collections: This module implements specialized container datatypes providing alternatives to Python's general purpose built-in containers, dict, list, set, and tuple.\n",
    "    -  **namedtuple()** factory function for creating tuple subclasses with named fields    \n",
    "    -  **deque** list-like container with fast appends and pops on either end    \n",
    "    -  **Counter** dict subclass for counting hashable objects \n",
    "    -  **OrderedDict** dict subclass that remembers the order entries were added   \n",
    "    -  **defaultdict** dict subclass that calls a factory function to supply missing values\n",
    "-  attribute access\n",
    "    -  `object.attribute`\n",
    "    -  `getattr(obj, 'attribute')`\n",
    "-  operator overloading\n",
    "    -  operator overloading is done by redefining certain special methods in any class eg\"\n",
    "        ```class MyClass(object):\n",
    "         def __add__(self, x):\n",
    "             return '%s plus %s' % (self, x)```\n",
    "-  function and method invocation. Methods are associated with object instances or classes; functions aren't. \n",
    "    -  method invocation\n",
    "        -  instance = Foo()\n",
    "        -  instance.foo(arg1,arg2)\n",
    "    -  function invocation:\n",
    "        -  Bar.foo(1,2)\n",
    "-  object creation and destruction;\n",
    "    -  x = MyClass()\n",
    "    -  object destruction via the __del__ method\n",
    "-  string representation and formatting\n",
    "    - name = \"John\"\n",
    "    - print(\"Hello, %s!\" % name)\n",
    "-  managed contexts (i.e. with blocks)\n",
    "    -  automatically manage resources encapsulated within context manager types, or more generally performs startup and cleanup actions around a block of code. eg:\n",
    "    ```with open('what_are_context_managers.txt', 'r') as infile:\n",
    "    for line in infile:\n",
    "        print('> {}'.format(line))```\n",
    "\n",
    "\n",
    "\n",
    "Nice [presentation of the Python data model](https://delapuente.github.io/presentations/python-datamodel/index.html#/4/1)"
   ]
  },
  {
   "cell_type": "code",
   "execution_count": 67,
   "metadata": {
    "collapsed": false
   },
   "outputs": [],
   "source": [
    "#Using collections here\n",
    "import collections\n",
    "from random import choice\n",
    "\n",
    "#named tuple in use\n",
    "Card = collections.namedtuple('Card', ['rank', 'suit'])\n",
    "\n",
    "class FrenchDeck:\n",
    "    ranks = [str(n) for n in range(2, 11)] + list('JQKA') \n",
    "    suits = 'spades diamonds clubs hearts'.split()\n",
    "    \n",
    "    def __init__(self):\n",
    "        self._cards = [Card(rank, suit) for suit in self.suits for rank in self.ranks]\n",
    "                       \n",
    "    def __len__(self):\n",
    "        return len(self._cards)\n",
    "                       \n",
    "    def __getitem__(self, position): \n",
    "        return self._cards[position]"
   ]
  },
  {
   "cell_type": "code",
   "execution_count": 68,
   "metadata": {
    "collapsed": false
   },
   "outputs": [
    {
     "name": "stdout",
     "output_type": "stream",
     "text": [
      "52\n",
      "Card(rank='2', suit='spades')\n",
      "Card(rank='A', suit='hearts')\n",
      "Card(rank='J', suit='hearts')\n"
     ]
    }
   ],
   "source": [
    "deck = FrenchDeck()\n",
    "print(len(deck))\n",
    "print(deck[0])\n",
    "print(deck[-1])\n",
    "print(choice(deck))"
   ]
  },
  {
   "cell_type": "markdown",
   "metadata": {},
   "source": [
    "By implementing the special methods `__len__` and `__getitem__` our FrenchDeck behaves like a standard Python sequence (i.e. str, unicode, list, tuple, buffer, xrange), allowing it to benefit from core language features — like iteration and slicing—and from the standard library\n",
    "\n",
    "Thress advantages of using special methods to leverage the Python Data Model:\n",
    "1. Standard operations have standard names, across objects\n",
    "1. Once standard operations have been implemented, rest of the the library is available\n",
    "1. Because `__getitem__` delegates to the [] operator of self._cards, our deck automatically supports slicing. "
   ]
  },
  {
   "cell_type": "code",
   "execution_count": 69,
   "metadata": {
    "collapsed": false
   },
   "outputs": [
    {
     "name": "stdout",
     "output_type": "stream",
     "text": [
      "[Card(rank='2', suit='spades'), Card(rank='3', suit='spades'), Card(rank='4', suit='spades')]\n",
      "[Card(rank='A', suit='spades'), Card(rank='A', suit='diamonds'), Card(rank='A', suit='clubs'), Card(rank='A', suit='hearts')]\n",
      "True\n",
      "False\n"
     ]
    }
   ],
   "source": [
    "print(deck[:3])\n",
    "print(deck[12::13])\n",
    "print(Card('Q', 'hearts') in deck)\n",
    "print(Card('7', 'beasts') in deck)"
   ]
  },
  {
   "cell_type": "markdown",
   "metadata": {},
   "source": [
    "-  Special methods are meant to be called by the Python interpreter, and not by you.\n",
    "-  The only special method that is frequently called by user code directly is __init__, to invoke the initializer of the superclass in your own __init__ implementation.\n",
    "-  If you need to invoke a special method, it is usually better to call the related built-in function, such as len, iter, str etc.\n",
    "\n",
    "## Emulating numeric types"
   ]
  },
  {
   "cell_type": "code",
   "execution_count": 4,
   "metadata": {
    "collapsed": false,
    "scrolled": true
   },
   "outputs": [
    {
     "name": "stdout",
     "output_type": "stream",
     "text": [
      "TestResults(failed=0, attempted=3)\n",
      "Vector(4, 5)\n",
      "5.0\n",
      "Vector(9, 12)\n",
      "15.0\n"
     ]
    }
   ],
   "source": [
    "from math import hypot \n",
    "\n",
    "class Vector:\n",
    "    def __init__(self, x=0, y=0): \n",
    "        self.x = x\n",
    "        self.y = y\n",
    "    def __repr__(self):\n",
    "        #note use of string representation, to get raw value, not str as %s\n",
    "        return 'Vector(%r, %r)' % (self.x, self.y) \n",
    "    def __abs__(self):\n",
    "        return hypot(self.x, self.y) \n",
    "    def __bool__(self):\n",
    "        #Convert the magnitude to a boolean using bool(abs(self)) because __bool__ is expected to return a boolean.\n",
    "        return bool(abs(self))\n",
    "    def __add__(self, other):\n",
    "        '''\n",
    "        >>> v1 = Vector(2, 4) \n",
    "        >>> v2 = Vector(2, 1) \n",
    "        >>> v1+v2 \n",
    "        Vector(4, 5)\n",
    "        '''\n",
    "        x = self.x + other.x \n",
    "        y = self.y + other.y \n",
    "        return Vector(x, y)\n",
    "    def __mul__(self, scalar):\n",
    "        return Vector(self.x * scalar, self.y * scalar)\n",
    "\n",
    "import doctest\n",
    "print(doctest.testmod())\n",
    "v1 = Vector(2, 4)\n",
    "v2 = Vector(2, 1) \n",
    "print(v1+v2)\n",
    "v = Vector(3, 4)\n",
    "print(abs(v))\n",
    "print(v*3)\n",
    "print(abs(v * 3))"
   ]
  },
  {
   "cell_type": "markdown",
   "metadata": {},
   "source": [
    "Note that although we implemented four special methods (apart from __init__), none of them is directly called\n",
    "\n",
    "## String representation\n",
    "\n",
    "The __repr__ special method is called by the repr built-in to get string representation of the object for inspection. Note that in our __repr__ implementation we used %r to obtain the standard repre‐ sentation of the attributes to be displayed. This is good practice, as it shows the crucial difference between Vector(1, 2) and Vector('1', '2') — the latter would not work in the context of this example, because the constructors arguments must be numbers, not str.\n",
    "\n",
    "## Arithmetic Operators\n",
    "\n",
    "There are 3 kinds of operators calling-notations: prefix (+ 3 5), infix (3 + 5), and postfix (3 5 +). The __add__ and __mul__ methods create and return a new instance of Vector, and do not modify either operand — self or other are merely read. This is the expected behavior of infix operators: to create new objects and not touch their operands.\n",
    "\n",
    "## Boolean value of a custom type\n",
    "\n",
    "To determine whether a value x is truthy or falsy, Python applies bool(x), which always returns True or False.\n",
    "\n",
    "## Why len is not a method\n",
    "\n",
    "len is not called as a method because it gets special treatment as part of the Python Data Model, just like abs. But thanks to the special method __len__ you can also make len work with your own custom objects. This is fair compromise between the need for efficient built-in objects and the consistency of the language. Also from the Zen of Python: “Special cases aren’t special enough to break the rules.”\n",
    "\n",
    "# Summary\n",
    "\n",
    "By implementing special methods, custom objects can behave like the built-in types, enabling Pythonic 'expressive coding'. Emulating sequences, as shown with the FrenchDeck example, is one of the most widely used applications of the special methods.\n",
    "\n",
    "A basic requirement for a Python object is to provide usable string representations of itself, one used for debugging and logging, another for presentation to end users. That is why the special methods __repr__ and __str__ exist in the Data Model."
   ]
  }
 ],
 "metadata": {
  "kernelspec": {
   "display_name": "Python 3",
   "language": "python",
   "name": "python3"
  },
  "language_info": {
   "codemirror_mode": {
    "name": "ipython",
    "version": 3
   },
   "file_extension": ".py",
   "mimetype": "text/x-python",
   "name": "python",
   "nbconvert_exporter": "python",
   "pygments_lexer": "ipython3",
   "version": "3.6.0"
  }
 },
 "nbformat": 4,
 "nbformat_minor": 2
}
