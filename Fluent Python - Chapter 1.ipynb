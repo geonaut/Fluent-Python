{
 "cells": [
  {
   "cell_type": "code",
   "execution_count": 71,
   "metadata": {
    "collapsed": false
   },
   "outputs": [
    {
     "data": {
      "text/html": [
       "\n",
       "<style>\n",
       ".output_stdout pre {\n",
       "    font-size:14px;\n",
       "    font-weight: 700;\n",
       "}\n",
       ".output_area pre {\n",
       "    color: #31708f;\n",
       "}\n",
       "</style>\n"
      ],
      "text/plain": [
       "<IPython.core.display.HTML object>"
      ]
     },
     "execution_count": 71,
     "metadata": {},
     "output_type": "execute_result"
    }
   ],
   "source": [
    "from IPython.core.display import HTML\n",
    "HTML(\"\"\"\n",
    "<style>\n",
    ".output_stdout pre {\n",
    "    font-size:14px;\n",
    "    font-weight: 700;\n",
    "}\n",
    ".output_area pre {\n",
    "    color: #31708f;\n",
    "}\n",
    "</style>\n",
    "\"\"\")"
   ]
  },
  {
   "cell_type": "markdown",
   "metadata": {
    "raw_mimetype": "text/markdown"
   },
   "source": [
    "## The Python Data Model\n",
    "\n",
    "The Python data model formalizes the interfaces of the building blocks of the language. The Python interpreter invokes special methods to perform basic object operations. The special method names are always spelled with leading and trailing double underscores, i.e. `__getitem__`.\n",
    "\n",
    "The special method names allow your objects to interact with basic language constructs such as:\n",
    "-  iteration\n",
    "    -  **for**\n",
    "    -  **while**\n",
    "-  collections: This module implements specialized container datatypes providing alternatives to Python's general purpose built-in containers, dict, list, set, and tuple.\n",
    "    -  **namedtuple()** factory function for creating tuple subclasses with named fields    \n",
    "    -  **deque** list-like container with fast appends and pops on either end    \n",
    "    -  **Counter** dict subclass for counting hashable objects \n",
    "    -  **OrderedDict** dict subclass that remembers the order entries were added   \n",
    "    -  **defaultdict** dict subclass that calls a factory function to supply missing values\n",
    "-  attribute access\n",
    "    -  `object.attribute`\n",
    "    -  `getattr(obj, 'attribute')`\n",
    "-  operator overloading\n",
    "    -  operator overloading is done by redefining certain special methods in any class eg\"\n",
    "        ```class MyClass(object):\n",
    "         def __add__(self, x):\n",
    "             return '%s plus %s' % (self, x)```\n",
    "-  function and method invocation. Methods are associated with object instances or classes; functions aren't. \n",
    "    -  method invocation\n",
    "        -  instance = Foo()\n",
    "        -  instance.foo(arg1,arg2)\n",
    "    -  function invocation:\n",
    "        -  Bar.foo(1,2)\n",
    "-  object creation and destruction;\n",
    "    -  x = MyClass()\n",
    "    -  object destruction via the __del__ method\n",
    "-  string representation and formatting\n",
    "    - name = \"John\"\n",
    "    - print(\"Hello, %s!\" % name)\n",
    "-  managed contexts (i.e. with blocks)\n",
    "    -  automatically manage resources encapsulated within context manager types, or more generally performs startup and cleanup actions around a block of code. eg:\n",
    "    ```with open('what_are_context_managers.txt', 'r') as infile:\n",
    "    for line in infile:\n",
    "        print('> {}'.format(line))```\n",
    "\n",
    "\n",
    "\n",
    "Nice [presentation of the Python data model](https://delapuente.github.io/presentations/python-datamodel/index.html#/4/1)"
   ]
  },
  {
   "cell_type": "code",
   "execution_count": 67,
   "metadata": {
    "collapsed": false
   },
   "outputs": [],
   "source": [
    "#Using collections here\n",
    "import collections\n",
    "from random import choice\n",
    "\n",
    "#named tuple in use\n",
    "Card = collections.namedtuple('Card', ['rank', 'suit'])\n",
    "\n",
    "class FrenchDeck:\n",
    "    ranks = [str(n) for n in range(2, 11)] + list('JQKA') \n",
    "    suits = 'spades diamonds clubs hearts'.split()\n",
    "    \n",
    "    def __init__(self):\n",
    "        self._cards = [Card(rank, suit) for suit in self.suits for rank in self.ranks]\n",
    "                       \n",
    "    def __len__(self):\n",
    "        return len(self._cards)\n",
    "                       \n",
    "    def __getitem__(self, position): \n",
    "        return self._cards[position]"
   ]
  },
  {
   "cell_type": "code",
   "execution_count": 68,
   "metadata": {
    "collapsed": false
   },
   "outputs": [
    {
     "name": "stdout",
     "output_type": "stream",
     "text": [
      "52\n",
      "Card(rank='2', suit='spades')\n",
      "Card(rank='A', suit='hearts')\n",
      "Card(rank='J', suit='hearts')\n"
     ]
    }
   ],
   "source": [
    "deck = FrenchDeck()\n",
    "print(len(deck))\n",
    "print(deck[0])\n",
    "print(deck[-1])\n",
    "print(choice(deck))"
   ]
  },
  {
   "cell_type": "markdown",
   "metadata": {},
   "source": [
    "By implementing the special methods `__len__` and `__getitem__` our FrenchDeck behaves like a standard Python sequence (i.e. str, unicode, list, tuple, buffer, xrange), allowing it to benefit from core language features — like iteration and slicing—and from the standard library\n",
    "\n",
    "Thress advantages of using special methods to leverage the Python Data Model:\n",
    "1. Standard operations have standard names, across objects\n",
    "1. Once standard operations have been implemented, rest of the the library is available\n",
    "1. Because `__getitem__` delegates to the [] operator of self._cards, our deck automatically supports slicing. "
   ]
  },
  {
   "cell_type": "code",
   "execution_count": 69,
   "metadata": {
    "collapsed": false
   },
   "outputs": [
    {
     "name": "stdout",
     "output_type": "stream",
     "text": [
      "[Card(rank='2', suit='spades'), Card(rank='3', suit='spades'), Card(rank='4', suit='spades')]\n",
      "[Card(rank='A', suit='spades'), Card(rank='A', suit='diamonds'), Card(rank='A', suit='clubs'), Card(rank='A', suit='hearts')]\n",
      "True\n",
      "False\n"
     ]
    }
   ],
   "source": [
    "print(deck[:3])\n",
    "print(deck[12::13])\n",
    "print(Card('Q', 'hearts') in deck)\n",
    "print(Card('7', 'beasts') in deck)"
   ]
  }
 ],
 "metadata": {
  "kernelspec": {
   "display_name": "Python 3",
   "language": "python",
   "name": "python3"
  },
  "language_info": {
   "codemirror_mode": {
    "name": "ipython",
    "version": 3
   },
   "file_extension": ".py",
   "mimetype": "text/x-python",
   "name": "python",
   "nbconvert_exporter": "python",
   "pygments_lexer": "ipython3",
   "version": "3.6.0"
  }
 },
 "nbformat": 4,
 "nbformat_minor": 2
}
