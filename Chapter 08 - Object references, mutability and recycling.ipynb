{
 "cells": [
  {
   "cell_type": "markdown",
   "metadata": {},
   "source": [
    "# Object references, mutability and recycling\n",
    "\n",
    "A name is not the object; a name is a separate thing.\n",
    "\n",
    "If you imagine variables are like boxes, you can’t make sense of assignment in Python. Think of variables as Post-it notes. "
   ]
  },
  {
   "cell_type": "code",
   "execution_count": 5,
   "metadata": {
    "collapsed": false
   },
   "outputs": [
    {
     "name": "stdout",
     "output_type": "stream",
     "text": [
      "Gizmo id: 4404047096\n",
      "<__main__.Gizmo object at 0x106806cf8>\n",
      "Gizmo id: 4404044128\n"
     ]
    },
    {
     "ename": "TypeError",
     "evalue": "unsupported operand type(s) for *: 'Gizmo' and 'int'",
     "output_type": "error",
     "traceback": [
      "\u001b[0;31m---------------------------------------------------------------------------\u001b[0m",
      "\u001b[0;31mTypeError\u001b[0m                                 Traceback (most recent call last)",
      "\u001b[0;32m<ipython-input-5-6378299a551a>\u001b[0m in \u001b[0;36m<module>\u001b[0;34m()\u001b[0m\n\u001b[1;32m      5\u001b[0m \u001b[0mx\u001b[0m \u001b[0;34m=\u001b[0m \u001b[0mGizmo\u001b[0m\u001b[0;34m(\u001b[0m\u001b[0;34m)\u001b[0m\u001b[0;34m\u001b[0m\u001b[0m\n\u001b[1;32m      6\u001b[0m \u001b[0mprint\u001b[0m\u001b[0;34m(\u001b[0m\u001b[0mx\u001b[0m\u001b[0;34m)\u001b[0m\u001b[0;34m\u001b[0m\u001b[0m\n\u001b[0;32m----> 7\u001b[0;31m \u001b[0my\u001b[0m \u001b[0;34m=\u001b[0m \u001b[0mGizmo\u001b[0m\u001b[0;34m(\u001b[0m\u001b[0;34m)\u001b[0m \u001b[0;34m*\u001b[0m \u001b[0;36m10\u001b[0m\u001b[0;34m\u001b[0m\u001b[0m\n\u001b[0m\u001b[1;32m      8\u001b[0m \u001b[0mdir\u001b[0m\u001b[0;34m(\u001b[0m\u001b[0;34m)\u001b[0m\u001b[0;34m\u001b[0m\u001b[0m\n",
      "\u001b[0;31mTypeError\u001b[0m: unsupported operand type(s) for *: 'Gizmo' and 'int'"
     ]
    }
   ],
   "source": [
    "#Variables are assigned to objects only after the objects are created.\n",
    "\n",
    "class Gizmo:\n",
    "    def __init__(self):\n",
    "        print('Gizmo id: %d' % id(self))\n",
    "    \n",
    "x = Gizmo()\n",
    "#y doesn't get created, because the multiplication step takes place first\n",
    "y = Gizmo() * 10\n",
    "dir()"
   ]
  },
  {
   "cell_type": "code",
   "execution_count": 8,
   "metadata": {
    "collapsed": false
   },
   "outputs": [
    {
     "name": "stdout",
     "output_type": "stream",
     "text": [
      "True\n",
      "4403896112 4403896112\n",
      "True\n"
     ]
    }
   ],
   "source": [
    "#an example of aliasing.\n",
    "charles = {'name': 'Charles L. Dodgson', 'born': 1832}\n",
    "lewis = charles\n",
    "print(lewis is charles)\n",
    "print(id(charles), id(lewis))\n",
    "\n",
    "#alex is not an alias for charles: these variables are bound to distinct objects. The \n",
    "#objects bound to alex and charles have the same value — that’s what == compares — but \n",
    "#they have different identities.\n",
    "alex = {'name': 'Charles L. Dodgson', 'born': 1832, 'balance': 950}\n",
    "alex == charles\n",
    "print(alex is not charles)"
   ]
  },
  {
   "cell_type": "markdown",
   "metadata": {},
   "source": [
    "The == operator compares the values of objects (the data they hold), while is compares their identities. The is operator is faster than ==, because it cannot be overloaded, so Python does not have to find and invoke special methods to evaluate it, and computing is as simple as comparing two integer ids. \n",
    "\n",
    "## The relative immutability of tuples\n",
    "\n",
    "The immutability of tuples really refers to the physical contents of the tuple data structure (ie. the references it holds), and does not extend to the referenced objects."
   ]
  },
  {
   "cell_type": "code",
   "execution_count": 13,
   "metadata": {
    "collapsed": false
   },
   "outputs": [
    {
     "name": "stdout",
     "output_type": "stream",
     "text": [
      "True\n",
      "4403120072\n",
      "(1, 2, [30, 40, 99])\n",
      "4403120072\n",
      "False\n",
      "[3, [55, 44], (7, 8, 9)]\n",
      "True\n",
      "False\n"
     ]
    }
   ],
   "source": [
    "t1 = (1, 2, [30, 40])\n",
    "t2 = (1, 2, [30, 40])\n",
    "print(t1==t2)\n",
    "print(id(t1[-1]))\n",
    "t1[-1].append(99)\n",
    "print(t1)\n",
    "#The identity of list at t1[-1] has not changed, only its value.\n",
    "print(id(t1[-1]))\n",
    "#but t1 and t2 are now different, because t1[-1] has changed\n",
    "print(t1==t2)"
   ]
  },
  {
   "cell_type": "markdown",
   "metadata": {},
   "source": [
    "Using the constructor or [:] produces a shallow copy, i.e. the outermost container is duplicated, but the copy is filled with references to the same items held by the original container."
   ]
  },
  {
   "cell_type": "code",
   "execution_count": 16,
   "metadata": {
    "collapsed": false
   },
   "outputs": [
    {
     "name": "stdout",
     "output_type": "stream",
     "text": [
      "[3, [55, 44], (7, 8, 9)]\n",
      "True\n",
      "False\n",
      "l1: [3, [66, 44], (7, 8, 9), 100]\n",
      "l2: [3, [66, 44], (7, 8, 9)]\n",
      "l1: [3, [66, 44, 33, 22], (7, 8, 9), 100]\n",
      "l2: [3, [66, 44, 33, 22], (7, 8, 9, 10, 11)]\n"
     ]
    }
   ],
   "source": [
    "l1 = [3, [55, 44], (7, 8, 9)]\n",
    "l2 = list(l1)\n",
    "print(l2)\n",
    "print(l1 == l2)\n",
    "print(l1 is l2)\n",
    "\n",
    "l1 = [3, [66, 55, 44], (7, 8, 9)] \n",
    "l2 = list(l1) # make a shallow copy - clone the top list, but not the contained list / tuple\n",
    "l1.append(100) # append 100 to L1 - doesn't affect l2\n",
    "l1[1].remove(55) # remove 55 from L1 list at pos. 2\n",
    "print('l1:', l1)\n",
    "print('l2:', l2) \n",
    "l2[1] += [33, 22] # For a mutable object like the list referred by l2[1], the operator += changes the list in-place.\n",
    "l2[2] += (10, 11) # += on a tuple creates a new tuple and rebinds the variable l2[2]\n",
    "print('l1:', l1) \n",
    "print('l2:', l2)"
   ]
  },
  {
   "cell_type": "markdown",
   "metadata": {},
   "source": [
    "## Deep copies"
   ]
  },
  {
   "cell_type": "code",
   "execution_count": 22,
   "metadata": {
    "collapsed": false
   },
   "outputs": [
    {
     "name": "stdout",
     "output_type": "stream",
     "text": [
      "4404044240 4404196128 4404196632\n",
      "None\n",
      "['Steve', 'Claire', 'David']\n",
      "4403172680 4403172680 4404200008\n",
      "['Steve', 'Bill', 'Claire', 'David']\n"
     ]
    }
   ],
   "source": [
    "import copy\n",
    "\n",
    "class Bus:\n",
    "    def __init__(self, passengers=None): \n",
    "        if passengers is None:\n",
    "            self.passengers = [] \n",
    "        else:\n",
    "            self.passengers = list(passengers) \n",
    "\n",
    "    def pick(self, name):\n",
    "        self.passengers.append(name) \n",
    "\n",
    "    def drop(self, name):\n",
    "        self.passengers.remove(name)\n",
    "    \n",
    "bus1 = Bus(['Steve', 'Bill', 'Claire', 'David'])\n",
    "bus2 = copy.copy(bus1)\n",
    "bus3 = copy.deepcopy(bus1)\n",
    "print(id(bus1), id(bus2), id(bus3))\n",
    "print(bus1.drop('Bill'))\n",
    "print(bus2.passengers)\n",
    "print(id(bus1.passengers), id(bus2.passengers), id(bus3.passengers))\n",
    "print(bus3.passengers)"
   ]
  },
  {
   "cell_type": "markdown",
   "metadata": {},
   "source": [
    "## Function parameters as references\n",
    "\n",
    "The only mode of parameter passing in Python is \"call by sharing\". Call by sharing means that each formal parameter of the function gets a copy of each reference in the arguments. In other words, the parameters inside the function become aliases of the actual arguments."
   ]
  },
  {
   "cell_type": "code",
   "execution_count": 27,
   "metadata": {
    "collapsed": false
   },
   "outputs": [
    {
     "name": "stdout",
     "output_type": "stream",
     "text": [
      "3\n",
      "1 2\n",
      "[1, 2, 3, 4]\n",
      "[1, 2, 3, 4] [3, 4]\n",
      "(10, 20) (30, 40)\n"
     ]
    }
   ],
   "source": [
    "def f(a, b):\n",
    "    a+=b\n",
    "    return a\n",
    "\n",
    "x = 1\n",
    "y = 2\n",
    "print(f(x,y))\n",
    "#int x is unchanged\n",
    "print(x,y)\n",
    "\n",
    "a = [1,2]\n",
    "b = [3,4]\n",
    "print(f(a,b))\n",
    "#list a is changed\n",
    "print(a,b)\n",
    "\n",
    "t = (10,20)\n",
    "u = (30,40)\n",
    "f(t,u)\n",
    "#tuple t is unchanged\n",
    "print(t,u)"
   ]
  },
  {
   "cell_type": "code",
   "execution_count": 31,
   "metadata": {
    "collapsed": false
   },
   "outputs": [
    {
     "name": "stdout",
     "output_type": "stream",
     "text": [
      "['Alice', 'Bill']\n",
      "['Bill', 'Charlie']\n",
      "['Carrie']\n",
      "['Carrie']\n"
     ]
    }
   ],
   "source": [
    "class HauntedBus:\n",
    "    \"\"\"A bus model haunted by ghost passengers\"\"\"\n",
    "    def __init__(self, passengers=[]): \n",
    "        self.passengers = passengers\n",
    "    def pick(self, name): \n",
    "        self.passengers.append(name)\n",
    "    def drop(self, name): \n",
    "        self.passengers.remove(name)\n",
    "\n",
    "bus1 = HauntedBus(['Alice', 'Bill'])\n",
    "print(bus1.passengers)\n",
    "bus1.pick('Charlie')\n",
    "bus1.drop('Alice')\n",
    "print(bus1.passengers)\n",
    "bus2 = HauntedBus()\n",
    "bus2.pick('Carrie')\n",
    "print(bus2.passengers)\n",
    "bus3 = HauntedBus()\n",
    "#bus3.passengers is not empty!\n",
    "#The problem: bus2.passengers and bus3.passengers refer to the same list. \n",
    "#They were both instantiated with the same list\n",
    "print(bus3.passengers)"
   ]
  },
  {
   "cell_type": "markdown",
   "metadata": {},
   "source": [
    "The issue with mutable defaults explains why None is often used as the default value for parameters that may receive mutable values. \n",
    "\n",
    "### Defensive programming with mutable parameters"
   ]
  },
  {
   "cell_type": "code",
   "execution_count": 34,
   "metadata": {
    "collapsed": false
   },
   "outputs": [
    {
     "name": "stdout",
     "output_type": "stream",
     "text": [
      "['Sue', 'Tina', 'Maya', 'Diana', 'Pat']\n"
     ]
    }
   ],
   "source": [
    "class TwilightBus:\n",
    "    \"\"\"A bus model that makes passengers vanish\"\"\"\n",
    "    def __init__(self, passengers=None): \n",
    "        if passengers is None:\n",
    "            self.passengers = [] \n",
    "        else:\n",
    "#             self.passengers = passengers\n",
    "            #make a copy of the passengers list, rather than an alias\n",
    "            self.passengers = list(passengers)\n",
    "            \n",
    "    def pick(self, name):\n",
    "        self.passengers.append(name) \n",
    "    def drop(self, name):\n",
    "        self.passengers.remove(name)\n",
    "\n",
    "basketball_team = ['Sue', 'Tina', 'Maya', 'Diana', 'Pat']\n",
    "\n",
    "bus = TwilightBus(basketball_team)\n",
    "\n",
    "bus.drop('Tina')\n",
    "bus.drop('Pat')\n",
    "#When the methods .remove() and .append() are used \n",
    "#with self.passengers we are actually mutating the \n",
    "#original list received as argument to the constructor.\n",
    "print(basketball_team)"
   ]
  },
  {
   "cell_type": "markdown",
   "metadata": {},
   "source": [
    "## del and garbage collection\n",
    "\n",
    "Objects are never explicitly destroyed; however, when they become unreachable they may be garbage-collected. The del statement deletes names, not objects. An object may be garbage collected as result of a del command, but only if the variable deleted holds the last reference to the object, or if the object becomes unreachable4. Rebinding a variable may also cause the number of references to an object reach zero, causing its destruction."
   ]
  },
  {
   "cell_type": "code",
   "execution_count": 37,
   "metadata": {
    "collapsed": false
   },
   "outputs": [
    {
     "name": "stdout",
     "output_type": "stream",
     "text": [
      "Gone with the wind...\n",
      "True\n",
      "True\n",
      "Gone with the wind...\n",
      "False\n"
     ]
    }
   ],
   "source": [
    "#del does not delete objects, but objects may be deleted as a \n",
    "#consequence of being unreachable after del is used.\n",
    "\n",
    "import weakref\n",
    "\n",
    "s1={1,2,3}\n",
    "#s1 and s2 are aliases referring to the same set, {1, 2, 3}.\n",
    "s2=s1\n",
    "\n",
    "#This function must not be a bound method\n",
    "def bye():\n",
    "    print('Gone with the wind...')\n",
    "\n",
    "#Register the bye callback on the object referred by s1.\n",
    "ender = weakref.finalize(s1, bye) \n",
    "print(ender.alive)\n",
    "\n",
    "del s1\n",
    "\n",
    "print(ender.alive)\n",
    "\n",
    "#Rebinding the last reference, s2, makes {1, 2, 3} unreachable. \n",
    "#It is destroyed, the bye callback is invoked and ender.alive becomes False.\n",
    "s2 = 'spam'\n",
    "\n",
    "print(ender.alive)"
   ]
  },
  {
   "cell_type": "markdown",
   "metadata": {},
   "source": [
    "## Weak references\n",
    "\n",
    "The presence of references is what keeps an object alive in memory. When the reference count of an object reaches zero, the garbage collector disposes of it. But sometimes it is useful to have a reference to an object that does not keep it around longer than necessary. A common use case is a cache.\n",
    "\n",
    "-  Weak references to an object do not increase its reference count. The object that is the target of a reference is called the referent. Therefore, we say that a weak reference does not prevent the referent from being garbage collected.\n",
    "-  Weak references are useful in caching applications because you don’t want the cached objects to be kept alive just because they are referenced by the cache."
   ]
  },
  {
   "cell_type": "code",
   "execution_count": 39,
   "metadata": {
    "collapsed": false
   },
   "outputs": [
    {
     "name": "stdout",
     "output_type": "stream",
     "text": [
      "<weakref at 0x106824228; to 'set' at 0x1063e93c8>\n",
      "{0, 1}\n",
      "None\n",
      "True\n",
      "True\n"
     ]
    }
   ],
   "source": [
    "import weakref\n",
    "\n",
    "a_set = {0, 1}\n",
    "\n",
    "wref = weakref.ref(a_set)\n",
    "\n",
    "print(wref)\n",
    "print(wref())\n",
    "\n",
    "a_set = {2, 3, 4}\n",
    "\n",
    "#doesn't work?\n",
    "print(wref())\n",
    "print(wref() is None)\n",
    "print(wref() is None)"
   ]
  },
  {
   "cell_type": "code",
   "execution_count": 44,
   "metadata": {
    "collapsed": false
   },
   "outputs": [
    {
     "name": "stdout",
     "output_type": "stream",
     "text": [
      "['Brie', 'Parmesan', 'Red Leicester', 'Tilsit']\n",
      "['Parmesan']\n",
      "[]\n"
     ]
    }
   ],
   "source": [
    "import weakref\n",
    "\n",
    "class Cheese:\n",
    "    def __init__(self, kind):\n",
    "        self.kind = kind \n",
    "    def __repr__(self):\n",
    "        return 'Cheese(%r)' % self.kind\n",
    "\n",
    "#The stock maps the name of the cheese to a weak reference to the cheese instance\n",
    "in the catalog.\n",
    "#stock is a WeakValueDictionary\n",
    "stock = weakref.WeakValueDictionary()\n",
    "catalog = [Cheese('Red Leicester'), Cheese('Tilsit'), Cheese('Brie'), Cheese('Parmesan')]\n",
    "for cheese in catalog:\n",
    "    stock[cheese.kind] = cheese\n",
    "\n",
    "print(sorted(stock.keys()))\n",
    "del catalog\n",
    "print(sorted(stock.keys()))\n",
    "del cheese\n",
    "print(sorted(stock.keys()))"
   ]
  },
  {
   "cell_type": "markdown",
   "metadata": {},
   "source": [
    "### Limitations of weak references\n",
    "Not every Python object may be the target, or referent, of a weak reference. Basic list and dict instances may not be referents, but a plain subclass of either can solve this problem easily:"
   ]
  },
  {
   "cell_type": "code",
   "execution_count": 45,
   "metadata": {
    "collapsed": false
   },
   "outputs": [
    {
     "name": "stdout",
     "output_type": "stream",
     "text": [
      "True\n",
      "True\n"
     ]
    }
   ],
   "source": [
    "t1=(1,2,3) \n",
    "t2 = tuple(t1)\n",
    "#t1 and t2 are bound to the same object.\n",
    "print(t2 is t1)\n",
    "#And so is t3.\n",
    "t3 = t1[:]\n",
    "print(t3 is t1)\n"
   ]
  }
 ],
 "metadata": {
  "kernelspec": {
   "display_name": "Python 3",
   "language": "python",
   "name": "python3"
  },
  "language_info": {
   "codemirror_mode": {
    "name": "ipython",
    "version": 3
   },
   "file_extension": ".py",
   "mimetype": "text/x-python",
   "name": "python",
   "nbconvert_exporter": "python",
   "pygments_lexer": "ipython3",
   "version": "3.6.0"
  }
 },
 "nbformat": 4,
 "nbformat_minor": 2
}
