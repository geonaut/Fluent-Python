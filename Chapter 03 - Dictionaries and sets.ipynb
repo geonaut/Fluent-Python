{
 "cells": [
  {
   "cell_type": "markdown",
   "metadata": {},
   "source": [
    "# Dictionaries and sets\n",
    "\n",
    "Python dicts are highly optimized.\n",
    "\n",
    "Dictionaries are used in:\n"
   ]
  },
  {
   "cell_type": "markdown",
   "metadata": {},
   "source": [
    "## Module namespaces"
   ]
  },
  {
   "cell_type": "code",
   "execution_count": 2,
   "metadata": {
    "collapsed": false
   },
   "outputs": [
    {
     "name": "stdout",
     "output_type": "stream",
     "text": [
      "{'foo': 1, 'bar': [1, 2, 3]}\n"
     ]
    }
   ],
   "source": [
    "#import a module\n",
    "import argparse\n",
    "#access the modules namespace\n",
    "args = argparse.Namespace()\n",
    "#insert some dict elements\n",
    "args.foo = 1\n",
    "args.bar = [1,2,3]\n",
    "#print the dictionary, using the vars() method\n",
    "print(vars(args))"
   ]
  },
  {
   "cell_type": "markdown",
   "metadata": {},
   "source": [
    "## Class and instance attributes"
   ]
  },
  {
   "cell_type": "code",
   "execution_count": 8,
   "metadata": {
    "collapsed": false
   },
   "outputs": [
    {
     "name": "stdout",
     "output_type": "stream",
     "text": [
      "{'multi': 4, 'str': '2'}\n"
     ]
    }
   ],
   "source": [
    "#define a new class\n",
    "class new_class():\n",
    "    def __init__(self, number):\n",
    "        self.multi = int(number) * 2\n",
    "        self.str = str(number)\n",
    "#instantiate class\n",
    "a = new_class(2)\n",
    "#print object as dict\n",
    "print(a.__dict__)"
   ]
  },
  {
   "cell_type": "markdown",
   "metadata": {},
   "source": [
    "## Function keyword arguments"
   ]
  },
  {
   "cell_type": "code",
   "execution_count": null,
   "metadata": {
    "collapsed": true
   },
   "outputs": [],
   "source": [
    "#define a function that takes both positional and keyword arguments\n",
    "def my_function(*positional,**kwargs):\n",
    "    print(\"Positional:\", positional, \"as a tuple\")\n",
    "    print(\"Keywords:\", kwargs, \"as a dictionary\")\n",
    "#pass positional arguments, and keyword args.\n",
    "my_function('one', 'two', 'three', a=12, b=\"abc\")"
   ]
  },
  {
   "cell_type": "markdown",
   "metadata": {},
   "source": [
    "There are lots of ways to make dictionaries"
   ]
  },
  {
   "cell_type": "code",
   "execution_count": 16,
   "metadata": {
    "collapsed": false
   },
   "outputs": [
    {
     "data": {
      "text/plain": [
       "True"
      ]
     },
     "execution_count": 16,
     "metadata": {},
     "output_type": "execute_result"
    }
   ],
   "source": [
    "a = dict(one=1, two=2, three=3)\n",
    "b = {'one': 1, 'two': 2, 'three': 3}\n",
    "c = dict(zip(['one', 'two', 'three'], [1, 2, 3])) \n",
    "d = dict([('two', 2), ('one', 1), ('three', 3)]) \n",
    "e = dict({'three': 3, 'one': 1, 'two': 2}) \n",
    "a==b==c==d==e"
   ]
  },
  {
   "cell_type": "markdown",
   "metadata": {},
   "source": [
    "## Dict comprehension in Python >2.7 (like listcomp)\n"
   ]
  },
  {
   "cell_type": "code",
   "execution_count": 18,
   "metadata": {
    "collapsed": false
   },
   "outputs": [
    {
     "name": "stdout",
     "output_type": "stream",
     "text": [
      "{'China': 86, 'India': 91, 'United States': 1, 'Indonesia': 62, 'Brazil': 55}\n"
     ]
    }
   ],
   "source": [
    "DIAL_CODES = [(86, 'China'),(91, 'India'),(1, 'United States'),(62, 'Indonesia'),(55, 'Brazil')]\n",
    "#Use the dict comp syntax - i.e. with {} instead of []\n",
    "country_code = {country: code for code, country in DIAL_CODES}\n",
    "print(country_code)"
   ]
  },
  {
   "cell_type": "code",
   "execution_count": 44,
   "metadata": {
    "collapsed": false
   },
   "outputs": [
    {
     "name": "stdout",
     "output_type": "stream",
     "text": [
      "ambiguity [(12, 16), (12, 16)]\n",
      "Beautiful [(1, 1), (1, 1)]\n",
      "complicated [(4, 24), (4, 24)]\n",
      "explicitly [(11, 8), (11, 8)]\n",
      "implementation [(17, 8), (17, 8), (18, 8), (18, 8)]\n",
      "Namespaces [(19, 1), (19, 1)]\n",
      "practicality [(9, 10), (9, 10)]\n",
      "preferably [(13, 25), (13, 25)]\n",
      "Readability [(7, 1), (7, 1)]\n",
      "temptation [(12, 38), (12, 38)]\n"
     ]
    }
   ],
   "source": [
    "import re\n",
    "\n",
    "#regex to get unique instances of a word\n",
    "WORD_RE = re.compile('\\w+')\n",
    "#index is a dict\n",
    "index = {}\n",
    "\n",
    "#open the text file\n",
    "with open('zen.txt', encoding='utf-8') as fp:\n",
    "    #for each line in the file\n",
    "    for line_no, line in enumerate(fp, 1):\n",
    "        #use regex to get each word in the line \n",
    "        for match in WORD_RE.finditer(line):\n",
    "            #group / deduplicate words in line\n",
    "            word = match.group()\n",
    "            #only words over 9 chars\n",
    "            if len(word) < 9:\n",
    "                continue\n",
    "            #isolate the match column, adding one to get accurate line numbers\n",
    "            column_no = match.start()+1\n",
    "            #concatenate line & column for location\n",
    "            location = (line_no, column_no)\n",
    "            #this is UGLY; coded like this to make a point\n",
    "            #Lookup 1: Get the list of occurrences for word in the index dict, or add empty [] if not already in list.\n",
    "            occurrences = index.get(word, [])\n",
    "            #Append new location as tuple to occurrence list. May be empty if first occurrence.\n",
    "            occurrences.append(location)\n",
    "            #Lookup 2: Overwrite occurrences back to index dict; this entails a second search through the index.\n",
    "            index[word] = occurrences\n",
    "            #BETTER: Get list of occurrences, set empty list if not found, then append the occurrence tuple\n",
    "            #Single lookup using setdefault, rather than get with default\n",
    "            index.setdefault(word, []).append(location)\n",
    "            \n",
    "# print in alphabetical order\n",
    "for word in sorted(index, key=str.upper): print(word, index[word])"
   ]
  },
  {
   "cell_type": "markdown",
   "metadata": {},
   "source": [
    "## Mappings with flexible key lookup\n",
    "\n",
    "A defaultdict is configured to create items on demand whenever a missing key is searched."
   ]
  },
  {
   "cell_type": "code",
   "execution_count": 46,
   "metadata": {
    "collapsed": false
   },
   "outputs": [
    {
     "name": "stdout",
     "output_type": "stream",
     "text": [
      "ambiguity [(12, 16)]\n",
      "Beautiful [(1, 1)]\n",
      "complicated [(4, 24)]\n",
      "explicitly [(11, 8)]\n",
      "implementation [(17, 8), (18, 8)]\n",
      "Namespaces [(19, 1)]\n",
      "practicality [(9, 10)]\n",
      "preferably [(13, 25)]\n",
      "Readability [(7, 1)]\n",
      "temptation [(12, 38)]\n"
     ]
    }
   ],
   "source": [
    "import re\n",
    "import collections\n",
    "\n",
    "WORD_RE = re.compile('\\w+')\n",
    "#this time, index is a defaultdict. \n",
    "#If key is not present, a list is created, the key inserted, and list reference returned\n",
    "index = collections.defaultdict(list) #list is the 'list constructor', used as the default_factory\n",
    "\n",
    "with open('zen.txt', encoding='utf-8') as fp:\n",
    "    for line_no, line in enumerate(fp, 1): \n",
    "        for match in WORD_RE.finditer(line):\n",
    "            word = match.group()\n",
    "            if len(word) < 9:\n",
    "                continue\n",
    "            column_no = match.start()+1\n",
    "            location = (line_no, column_no)\n",
    "            index[word].append(location)\n",
    "            \n",
    "# print in alphabetical order\n",
    "for word in sorted(index, key=str.upper): print(word, index[word])"
   ]
  },
  {
   "cell_type": "markdown",
   "metadata": {},
   "source": [
    "## The __missing__ method\n",
    "\n",
    "Underlying the way mappings deal with missing keys is the aptly named __missing__ method. This method is not defined in the base dict class, but dict is aware of it: if you subclass dict and provide a __missing__ method, the standard dict.__getitem__ will call it whenever a key is not found, instead of raising KeyError."
   ]
  },
  {
   "cell_type": "code",
   "execution_count": 52,
   "metadata": {
    "collapsed": false
   },
   "outputs": [
    {
     "name": "stdout",
     "output_type": "stream",
     "text": [
      "two\n",
      "four\n",
      "two\n",
      "four\n",
      "N/A\n",
      "{'2': 'two', '4': 'four'}\n"
     ]
    }
   ],
   "source": [
    "class StrKeyDict0(dict):\n",
    "    def __missing__(self, key): \n",
    "        if isinstance(key, str):\n",
    "            raise KeyError(key) \n",
    "        return self[str(key)]\n",
    "    \n",
    "    def get(self, key, default=None):\n",
    "        try:\n",
    "            return self[key]\n",
    "        except KeyError: \n",
    "            return default\n",
    "        \n",
    "    def __contains__(self, key):\n",
    "        return key in self.keys() or str(key) in self.keys()\n",
    "\n",
    "\n",
    "d = StrKeyDict0([('2', 'two'), ('4', 'four')])\n",
    "#pass a string - found easily\n",
    "print(d['2'])\n",
    "#pass a int, convert to string, find\n",
    "print(d[4])\n",
    "#print(d[1]) >>>throws KeyError1, because 1 is an int and isn't found\n",
    "#pass an string, no problem\n",
    "print(d.get('2'))\n",
    "#pass an int, convert & find\n",
    "print(d.get(4))\n",
    "#pass an unknown string: pass, convert, return - not added to dict though\n",
    "print(d.get(1,'N/A'))\n",
    "print(d)\n"
   ]
  },
  {
   "cell_type": "markdown",
   "metadata": {},
   "source": [
    "## Variations of dict\n",
    "-  collections.OrderedDict\n",
    "    -  maintains keys in insertion order, allowing iteration over items in a predictable order.\n",
    "-  collections.ChainMap\n",
    "    -  holds a list of mappings which can be searched as one. eg - named tuple containing named tuples\n",
    "-  collections.counter\n",
    "    -  a mapping that holds an integer count for each key. Updating an existing key adds to its count. \n",
    "-  collections.UserDict\n",
    "    -  a pure Python implementation of a mapping that works like a standard dict.\n",
    "    \n",
    "## Subclassing UserDict\n",
    "\n",
    "It’s almost always easier to create a new mapping type by extending UserDict than dict. The main reason why it’s preferable to subclass from UserDict than dict is that the built-in has some implementation shortcuts that end up forcing us to override methods that we can just inherit from UserDict with no problems."
   ]
  },
  {
   "cell_type": "code",
   "execution_count": 61,
   "metadata": {
    "collapsed": false
   },
   "outputs": [
    {
     "name": "stdout",
     "output_type": "stream",
     "text": [
      "two\n",
      "four\n",
      "two\n",
      "four\n",
      "two\n",
      "True\n",
      "N/A\n",
      "None\n",
      "{'2': 'two', '4': 'four', '1': 'N/A'}\n"
     ]
    }
   ],
   "source": [
    "import collections\n",
    "\n",
    "class StrKeyDict(collections.UserDict):\n",
    "    def __missing__(self, key): \n",
    "        if isinstance(key, str):\n",
    "            raise KeyError(key) \n",
    "        return self[str(key)]\n",
    "\n",
    "    def __contains__(self, key): \n",
    "        return str(key) in self.data\n",
    "\n",
    "    def __setitem__(self, key, item):\n",
    "        print(item)\n",
    "        self.data[str(key)] = item\n",
    "    \n",
    "e = StrKeyDict([('2', 'two'), ('4', 'four')])\n",
    "#pass a string - found easily\n",
    "print(e['2'])\n",
    "#pass a int, convert to string, find\n",
    "print(e[4])\n",
    "#print(d[1]) >>>throws KeyError1, because 1 is an int and isn't found\n",
    "#pass an string, no problem\n",
    "print(e.get('2'))\n",
    "#pass an int, convert & find\n",
    "print(e.__contains__(4))\n",
    "#pass an unknown string: pass, convert, add, return\n",
    "print(e.__setitem__(1,'N/A'))\n",
    "print(e)\n"
   ]
  },
  {
   "cell_type": "markdown",
   "metadata": {},
   "source": [
    "Mappingproxy instance that is a read-only but dynamic view of the original mapping"
   ]
  },
  {
   "cell_type": "code",
   "execution_count": 64,
   "metadata": {
    "collapsed": false
   },
   "outputs": [
    {
     "name": "stdout",
     "output_type": "stream",
     "text": [
      "{1: 'A'}\n",
      "A\n",
      "{1: 'A', 2: 'B'}\n",
      "B\n"
     ]
    }
   ],
   "source": [
    "from types import MappingProxyType\n",
    "\n",
    "#make a doct\n",
    "d = {1:'A'}\n",
    "#make a proxy of it\n",
    "d_proxy = MappingProxyType(d)\n",
    "#print it - no problems\n",
    "print(d_proxy)\n",
    "#updated - can't\n",
    "print(d_proxy[1])\n",
    "#d_proxy[2] = 'x' # throws TypeError: 'mappingproxy' object does not support item assignment\n",
    "d[2] = 'B'\n",
    "print(d_proxy)\n",
    "print(d_proxy[2])"
   ]
  },
  {
   "cell_type": "markdown",
   "metadata": {},
   "source": [
    "## Set theory\n",
    "\n",
    "A set is a collection of unique objects. A basic use case is removing duplication. Set elements must be hashable. The set type is not hashable, but frozenset is, so you can have frozenset elements inside a set.\n",
    "\n",
    "## Set operations\n",
    "\n",
    "There are lots of manipulation methods, and operators, based on mathematical set theory"
   ]
  },
  {
   "cell_type": "code",
   "execution_count": 8,
   "metadata": {
    "collapsed": false
   },
   "outputs": [
    {
     "name": "stdout",
     "output_type": "stream",
     "text": [
      "{1}\n",
      "<class 'set'>\n",
      "set()\n",
      "frozenset({0, 1, 2, 3, 4, 5, 6, 7, 8, 9})\n",
      "{'®', '÷', '$', '£', '×', '¥', '¶', '+', '±', '<', '%', '¤', '=', '°', '¬', '>', 'µ', '§', '©', '#', '¢'}\n"
     ]
    }
   ],
   "source": [
    "needles = {1}\n",
    "haystack = {2}\n",
    "#Count needles in haystack, using asuming vars are sets\n",
    "found = len(needles & haystack)\n",
    "\n",
    "#Same as above, using for\n",
    "found = 0\n",
    "for n in needles:\n",
    "    if n in haystack: found += 1\n",
    "\n",
    "#Count needles, building two sets - could be cheaper if one element is already a set\n",
    "found = len(set(needles) & set(haystack))\n",
    "#alternative synatx of above\n",
    "found = len(set(needles).intersection(haystack))\n",
    "\n",
    "#Set literals\n",
    "s = {1}\n",
    "print(s)\n",
    "print(type(s))\n",
    "s.pop()\n",
    "#empty set becomes \n",
    "print(s)\n",
    "\n",
    "#Frozen sets must use the constructor\n",
    "print(frozenset(range(10)))\n",
    "\n",
    "#set comprehension, same syntax as list comp\n",
    "from unicodedata import name\n",
    "print({chr(i) for i in range(32, 256) if 'SIGN' in name(chr(i),'')})"
   ]
  },
  {
   "cell_type": "markdown",
   "metadata": {},
   "source": [
    "## Use of Dicts and Sets\n",
    "\n",
    "These are fast datastructures, because the can make use of hash tables for lookup, because they are immutable. Python has optimisations for speed, and aims to keep the hash load factor at < 70%. When load factor increases, a new hash table is created. Collisions are resolved with linear probing(?). Because hash tables are used:\n",
    "\n",
    "-  Dict keys must be hashable\n",
    "-  dicts have significant memory overhead (i.e. empty table needed & field names stored in record.\n",
    "-  Key search is FAST\n",
    "-  Key ordering depends on insertion order, as first of identical insertion doesn't have a collision\n",
    "-  "
   ]
  },
  {
   "cell_type": "code",
   "execution_count": 11,
   "metadata": {
    "collapsed": false
   },
   "outputs": [
    {
     "name": "stdout",
     "output_type": "stream",
     "text": [
      "d1: dict_keys([86, 91, 1, 62, 55, 92, 880, 234, 7, 81])\n",
      "d2: dict_keys([1, 7, 55, 62, 81, 86, 91, 92, 234, 880])\n",
      "d3: dict_keys([880, 55, 86, 91, 62, 81, 234, 92, 7, 1])\n",
      "True\n"
     ]
    }
   ],
   "source": [
    "# dial codes of the top 10 most populous countries\n",
    "DIAL_CODES = [\n",
    "        (86, 'China'),\n",
    "        (91, 'India'),\n",
    "        (1, 'United States'),\n",
    "        (62, 'Indonesia'),\n",
    "        (55, 'Brazil'),\n",
    "        (92, 'Pakistan'),\n",
    "        (880, 'Bangladesh'),\n",
    "        (234, 'Nigeria'),\n",
    "        (7, 'Russia'),\n",
    "        (81, 'Japan'),\n",
    "]\n",
    "d1 = dict(DIAL_CODES) \n",
    "print('d1:', d1.keys())\n",
    "d2 = dict(sorted(DIAL_CODES))\n",
    "print('d2:', d2.keys())\n",
    "d3 = dict(sorted(DIAL_CODES, key=lambda x:x[1])) \n",
    "print('d3:', d3.keys())\n",
    "#The dictionaries compare equal, because they hold the same key:value pairs.\n",
    "print(d1==d2 and d2==d3)"
   ]
  },
  {
   "cell_type": "markdown",
   "metadata": {},
   "source": [
    "## How sets work — practical consequences\n",
    "The set and frozenset types are also implemented with a hash table, except that each bucket holds only a reference to the element (as if it were a key in a dict, but without a value to go with it). Therefore:\n",
    "\n",
    "-  Set elements must be hashable objects.\n",
    "-  Sets have a significant memory overhead.\n",
    "-  Membership testing is very efficient.\n",
    "-  Element ordering depends on insertion order.\n",
    "-  Adding elements to a set may change the order of other elements.\n",
    "\n",
    "## Summary\n",
    "\n",
    "Dictionaries are a keystone of Python. Beyond the basic dict, the standard library offers handy, ready-to-use specialized mappings like defaultdict, OrderedDict, ChainMap and Counter, all defined in the collections module.\n",
    "\n",
    "Two powerful methods available in most mappings are setdefault and update. The setdefault method is used to update items holding mutable values, for example, in a dict of list values, to avoid redundant searches for the same key. The update method allows bulk insertion or overwriting of items from any other mapping, from iterables providing (key, value) pairs and from keyword arguments.\n",
    "\n",
    "The hash table implementation underlying dict and set is extremely fast. There is a price to pay for all this speed, and the price is in memory.\n"
   ]
  }
 ],
 "metadata": {
  "kernelspec": {
   "display_name": "Python 3",
   "language": "python",
   "name": "python3"
  },
  "language_info": {
   "codemirror_mode": {
    "name": "ipython",
    "version": 3
   },
   "file_extension": ".py",
   "mimetype": "text/x-python",
   "name": "python",
   "nbconvert_exporter": "python",
   "pygments_lexer": "ipython3",
   "version": "3.6.0"
  }
 },
 "nbformat": 4,
 "nbformat_minor": 2
}
