{
 "cells": [
  {
   "cell_type": "markdown",
   "metadata": {},
   "source": [
    "# An array of sequences\n",
    "\n",
    "ABC introduced many ideas we now consider “Pythonic”:\n",
    "-  generic operations on sequences\n",
    "-  built-in tuple and mapping types\n",
    "-  structure by indentation\n",
    "-  strong typing without variable declarations\n",
    "\n",
    "Objects whose value can change are said to be mutable (M); objects whose value is unchangeable once they are created are called immutable (IM). Mutable objects have methods such as pop, append, extend, remove, __setitem__, __delitem__. Immutable objects have __getitem__, __contains__, index and count.\n",
    "\n",
    "The standard library offers a rich selection of sequence types implemented in C. \n",
    "\n",
    "-  Container sequences hold references to the objects they contain, which may be of any type\n",
    "    -  list (M)\n",
    "    -  tuple (IM)\n",
    "    -  collections.deque (M)\n",
    "-  Flat sequences physically store the value of each item within its own memory space, and not as distinct objects. flat sequences are more compact, but they are limited to holding primitive values like characters, bytes and numbers.\n",
    "    -  str (IM)\n",
    "    -  bytes (IM)\n",
    "    -  bytearray (M)\n",
    "    -  memoryview (M)\n",
    "    -  array.array (M)\n",
    "    \n",
    "## List comprehensions and generator expressions\n",
    "\n",
    "List comprehension is an elegant way to define and create list in Python, implementing a well-known notation for sets as used by mathematicians.\n",
    "\n",
    "### For loop vs listcomps\n",
    "\n",
    "A for loop may be used to do lots of different things: scanning a sequence to count or pick items, computing aggregates (sums, averages), or any number of other processing. The code in Example 2-1 is building up a list. In contrast, a listcomp is meant to do one thing only: to build a new list."
   ]
  },
  {
   "cell_type": "code",
   "execution_count": 26,
   "metadata": {
    "collapsed": false
   },
   "outputs": [
    {
     "name": "stdout",
     "output_type": "stream",
     "text": [
      "[5, 5, 3, 5, 4, 4, 3]\n",
      "[5, 5, 3, 5, 4, 4, 3]\n"
     ]
    }
   ],
   "source": [
    "sentence = \"the quick brown fox jumps over the lazy dog\"\n",
    "words = sentence.split()\n",
    "word_lengths = []\n",
    "\n",
    "#using a for loop\n",
    "for word in words:\n",
    "      if word != \"the\":\n",
    "          word_lengths.append(len(word))\n",
    "#note 3 is missing from the start of the list\n",
    "print(word_lengths)\n",
    "\n",
    "#using list comprehension\n",
    "word_lengths_comp = []\n",
    "word_lengths_comp = [len(word) for word in words if word != \"the\"]\n",
    "print(word_lengths_comp)"
   ]
  },
  {
   "cell_type": "markdown",
   "metadata": {},
   "source": [
    "### Listcomps versus map and filter\n",
    "\n",
    "Use map() or filter() for expressions that are too long or complicated to express with a list comprehension. If you already have a function defined, it is often reasonable to use map, though it is considered 'unpythonic'. "
   ]
  },
  {
   "cell_type": "code",
   "execution_count": 27,
   "metadata": {
    "collapsed": false
   },
   "outputs": [
    {
     "name": "stdout",
     "output_type": "stream",
     "text": [
      "[162, 163, 165, 8364, 164]\n",
      "[162, 163, 165, 8364, 164]\n"
     ]
    }
   ],
   "source": [
    "symbols = '$¢£¥€¤'\n",
    "beyond_ascii_listcomp = [ord(s) for s in symbols if ord(s) > 127]\n",
    "print(beyond_ascii_listcomp)\n",
    "beyond_ascii_map = list(filter(lambda c: c > 127, map(ord, symbols)))\n",
    "print(beyond_ascii_map)"
   ]
  },
  {
   "cell_type": "markdown",
   "metadata": {},
   "source": [
    "### Cartesian products\n",
    "\n",
    "Listcomps can generate lists from the cartesian product of two or more iterables. The items that make up the cartesian product are tuples made from items from every input iterable. The resulting list has a length equal to the lengths of the input iterables mul‐ tiplied."
   ]
  },
  {
   "cell_type": "markdown",
   "metadata": {},
   "source": [
    "colors = ['black', 'white']\n",
    "\n",
    "sizes = ['S', 'M', 'L']\n",
    "\n",
    "tshirts = [(color, size) for color in colors for size in sizes] \n",
    "tshirts\n",
    "for color in colors:\n",
    "    for size in sizes:\n",
    "        print((color, size))\n",
    "tshirts = [(color, size) for size in sizes for color in colors]\n",
    "print(tshirts)"
   ]
  },
  {
   "cell_type": "markdown",
   "metadata": {},
   "source": [
    "### Generator expressions\n",
    "\n",
    "To initialize tuples, arrays and other types of sequences, you could also start from a listcomp but a genexp saves memory because it yields items one by one using the iterator protocol instead of building a whole list just to feed another constructor. If two lists used in the cartesian product had a thousand items each, using a generator expression would save the expense of building a list with a million items just to feed the for loop."
   ]
  },
  {
   "cell_type": "code",
   "execution_count": 28,
   "metadata": {
    "collapsed": false
   },
   "outputs": [
    {
     "name": "stdout",
     "output_type": "stream",
     "text": [
      "(36, 162, 163, 165, 8364, 164)\n"
     ]
    },
    {
     "data": {
      "text/plain": [
       "array('I', [36, 162, 163, 165, 8364, 164])"
      ]
     },
     "execution_count": 28,
     "metadata": {},
     "output_type": "execute_result"
    }
   ],
   "source": [
    "symbols = '$¢£¥€¤'\n",
    "print(tuple(ord(symbol) for symbol in symbols))\n",
    "import array\n",
    "array.array('I', (ord(symbol) for symbol in symbols))"
   ]
  },
  {
   "cell_type": "markdown",
   "metadata": {},
   "source": [
    "## Tuples are not just immutable lists\n",
    "\n",
    "Tuples do double-duty: they can be used as immutable lists and also as records with no field names.\n",
    "\n",
    "### Tuples as records"
   ]
  },
  {
   "cell_type": "code",
   "execution_count": 29,
   "metadata": {
    "collapsed": false
   },
   "outputs": [
    {
     "name": "stdout",
     "output_type": "stream",
     "text": [
      "BRA/CE342567\n",
      "ESP/XDA205856\n",
      "USA/31195855\n",
      "USA\n",
      "BRA\n",
      "ESP\n",
      "33.9425\n",
      "-118.408056\n",
      "idrsa.pub\n"
     ]
    }
   ],
   "source": [
    "city, year, pop, chg, area = ('Tokyo', 2003, 32450, 0.66, 8014)\n",
    "traveler_ids = [('USA', '31195855'), ('BRA', 'CE342567'), ('ESP', 'XDA205856')]\n",
    "for passport in sorted(traveler_ids):\n",
    "    print('%s/%s' % passport)\n",
    "for country, _ in traveler_ids:\n",
    "    print(country)\n",
    "lax_coordinates = (33.9425, -118.408056)\n",
    "# tuple unpacking\n",
    "latitude, longitude = lax_coordinates \n",
    "print(latitude)\n",
    "print(longitude)\n",
    "import os\n",
    "#os.path.split() function builds a tuple (path, last_part) from a filesystem path\n",
    "_, filename = os.path.split('/home/luciano/.ssh/idrsa.pub')\n",
    "print(filename)"
   ]
  },
  {
   "cell_type": "markdown",
   "metadata": {},
   "source": [
    "### Using * to grab excess items\n"
   ]
  },
  {
   "cell_type": "code",
   "execution_count": 30,
   "metadata": {
    "collapsed": false
   },
   "outputs": [
    {
     "name": "stdout",
     "output_type": "stream",
     "text": [
      "0 1 [2, 3, 4]\n",
      "0 1 [2]\n",
      "0 1 []\n"
     ]
    }
   ],
   "source": [
    "a, b, *rest = range(5)\n",
    "print(a, b, rest)\n",
    "a, b, *rest = range(3)\n",
    "print(a, b, rest)\n",
    "a, b, *rest = range(2)\n",
    "print(a, b, rest)"
   ]
  },
  {
   "cell_type": "markdown",
   "metadata": {},
   "source": [
    "### Nested tuple unpacking\n",
    "\n",
    "The tuple to receive an expression to unpack can have nested tuples, like (a, b, (c, d)) and Python will do the right thing if the expression matches the nesting structure."
   ]
  },
  {
   "cell_type": "code",
   "execution_count": 31,
   "metadata": {
    "collapsed": false
   },
   "outputs": [
    {
     "name": "stdout",
     "output_type": "stream",
     "text": [
      "                |   lat.    |   long.  \n",
      "Mexico City     |   19.4333 |  -99.1333\n",
      "New York-Newark |   40.8086 |  -74.0204\n",
      "Sao Paulo       |  -23.5478 |  -46.6358\n"
     ]
    }
   ],
   "source": [
    "metro_areas = [('Tokyo','JP',36.933,(35.689722,139.691667)), \n",
    "               ('Delhi NCR', 'IN', 21.935, (28.613889, 77.208889)), \n",
    "               ('Mexico City', 'MX', 20.142, (19.433333, -99.133333)), \n",
    "               ('New York-Newark', 'US', 20.104, (40.808611, -74.020386)), \n",
    "               ('Sao Paulo', 'BR', 19.649, (-23.547778, -46.635833)),]\n",
    "#defining colum widths\n",
    "print('{:15} | {:^9} | {:^9}'.format('', 'lat.', 'long.'))\n",
    "#setting the numner of digits\n",
    "fmt = '{:15} | {:9.4f} | {:9.4f}'\n",
    "for name, cc, pop, (latitude, longitude) in metro_areas: #\n",
    "    if longitude <= 0: #\n",
    "        print(fmt.format(name, latitude, longitude))"
   ]
  },
  {
   "cell_type": "markdown",
   "metadata": {},
   "source": [
    "### Named tuples"
   ]
  },
  {
   "cell_type": "code",
   "execution_count": 35,
   "metadata": {
    "collapsed": false
   },
   "outputs": [
    {
     "name": "stdout",
     "output_type": "stream",
     "text": [
      "City(name='Tokyo', country='JP', population=36.933, coordinates=(35.689722, 139.691667))\n",
      "(35.689722, 139.691667)\n",
      "JP\n",
      "name: Delhi NCR\n",
      "country: IN\n",
      "population: 21.935\n",
      "coordinates: LatLong(lat=28.613889, long=77.208889)\n"
     ]
    }
   ],
   "source": [
    "from collections import namedtuple\n",
    "City = namedtuple('City', 'name country population coordinates')\n",
    "tokyo = City('Tokyo', 'JP', 36.933, (35.689722, 139.691667))\n",
    "print(tokyo)\n",
    "print(tokyo.coordinates)\n",
    "print(tokyo[1])\n",
    "\n",
    "#A named tuple type has a few attributes in addition to those inherited from tuple. \n",
    "#the _fields class attribute, \n",
    "#the class method _make(iterable)\n",
    "#the _asdict() instance method.\n",
    "\n",
    "City._fields #_fields\n",
    "LatLong = namedtuple('LatLong', 'lat long')\n",
    "delhi_data = ('Delhi NCR', 'IN', 21.935, LatLong(28.613889, 77.208889)) \n",
    "delhi = City._make(delhi_data) #_make()\n",
    "delhi._asdict() #_asdict()\n",
    "for key, value in delhi._asdict().items():\n",
    "    print(key + ':', value)"
   ]
  },
  {
   "cell_type": "markdown",
   "metadata": {},
   "source": [
    "It is also possible to use tuples as immutable lists\n",
    "\n",
    "## Slicing"
   ]
  },
  {
   "cell_type": "code",
   "execution_count": 39,
   "metadata": {
    "collapsed": false
   },
   "outputs": [
    {
     "name": "stdout",
     "output_type": "stream",
     "text": [
      "[10, 20]\n",
      "[30, 40, 50, 60]\n",
      "[10, 20, 30]\n",
      "[40, 50, 60]\n",
      "bye\n",
      "elcycib\n",
      "eccb\n"
     ]
    }
   ],
   "source": [
    "l=[10,20,30,40,50,60]\n",
    "print(l[:2])\n",
    "print(l[2:])\n",
    "print(l[:3])\n",
    "print(l[3:])\n",
    "s = 'bicycle'\n",
    "#slice every 3rd letter\n",
    "print(s[::3])\n",
    "#slice every -1 letter (i.e. from the end backwards - reversing the word)\n",
    "print(s[::-1])\n",
    "#slice every other letter from end to beginning\n",
    "print(s[::-2])"
   ]
  },
  {
   "cell_type": "markdown",
   "metadata": {},
   "source": [
    "Slicing flat-file data:"
   ]
  },
  {
   "cell_type": "code",
   "execution_count": 42,
   "metadata": {
    "collapsed": false
   },
   "outputs": [
    {
     "name": "stdout",
     "output_type": "stream",
     "text": [
      "    $17.50   Pimoroni PiBrella                 \n",
      "    $4.95    6mm Tactile Switch x20            \n",
      "    $28.00   Panavise Jr. - PV-201             \n",
      "    $34.95   PiTFT Mini Kit 320x240            \n",
      " \n"
     ]
    }
   ],
   "source": [
    "invoice =\"\"\"\n",
    "0.....6.................................40........52...55........\n",
    "1909  Pimoroni PiBrella                     $17.50    3    $52.50\n",
    "1489  6mm Tactile Switch x20                $4.95     2     $9.90\n",
    "1510  Panavise Jr. - PV-201                 $28.00    1    $28.00\n",
    "1601  PiTFT Mini Kit 320x240                $34.95    1    $34.95\n",
    "\"\"\"\n",
    "SKU = slice(0, 6)\n",
    "DESCRIPTION = slice(6, 40)\n",
    "UNIT_PRICE = slice(40, 52)\n",
    "QUANTITY = slice(52, 55)\n",
    "ITEM_TOTAL = slice(55, None)\n",
    "line_items = invoice.split('\\n')[2:]\n",
    "for item in line_items:\n",
    "    print(item[UNIT_PRICE], item[DESCRIPTION])"
   ]
  },
  {
   "cell_type": "markdown",
   "metadata": {},
   "source": [
    "### Multi-dimensional slicing and ellipsis\n",
    "\n",
    "The [] operator can also take multiple indexes or slices separated by commas.\n",
    "\n",
    "The ellipsis — written with three full stops ... and not Unicode U+2026 — is recognized as a token by the Python parser."
   ]
  },
  {
   "cell_type": "code",
   "execution_count": 43,
   "metadata": {
    "collapsed": false
   },
   "outputs": [
    {
     "name": "stdout",
     "output_type": "stream",
     "text": [
      "[0, 1, 20, 30, 5, 6, 7, 8, 9]\n",
      "[0, 1, 20, 30, 5, 8, 9]\n",
      "[0, 1, 20, 11, 5, 22, 9]\n",
      "[1, 2, 3, 1, 2, 3, 1, 2, 3, 1, 2, 3, 1, 2, 3]\n",
      "abcdabcdabcdabcdabcd\n"
     ]
    }
   ],
   "source": [
    "l = list(range(10))\n",
    "l[2:5] = [20, 30]\n",
    "print(l)\n",
    "del l[5:7]\n",
    "print(l)\n",
    "l[3::2] = [11, 22]\n",
    "print(l)\n",
    "#Using + and * with sequences\n",
    "l=[1,2,3]\n",
    "print(l*5)\n",
    "print(5 * 'abcd')"
   ]
  },
  {
   "cell_type": "markdown",
   "metadata": {},
   "source": [
    "### Building lists of lists\n",
    "Sometimes we need to initialize a list with a certain number of nested lists, for example, to distribute students in a list of teams or to represent squares on a game board. The best way of doing so is with a list comprehension, like this:"
   ]
  },
  {
   "cell_type": "code",
   "execution_count": 49,
   "metadata": {
    "collapsed": false
   },
   "outputs": [
    {
     "name": "stdout",
     "output_type": "stream",
     "text": [
      "[['_', '_', '_'], ['_', '_', 'X'], ['_', '_', '_']]\n",
      "[['_', '_', 'O'], ['_', '_', 'O'], ['_', '_', 'O']]\n",
      "[['_', '_', '_'], ['_', '_', '_'], ['X', '_', '_']]\n"
     ]
    }
   ],
   "source": [
    "#using listcomp\n",
    "board = [['_'] * 3 for i in range(3)]\n",
    "board[1][2] = 'X'\n",
    "print(board)\n",
    "# Board that doesn't work\n",
    "weird_board = [['_'] * 3] * 3\n",
    "weird_board[1][2] = 'O'\n",
    "print(weird_board)\n",
    "# Using for\n",
    "board = []\n",
    "for i in range(3):\n",
    "    row=['_']*3 #\n",
    "    board.append(row)\n",
    "board[2][0] = 'X'\n",
    "print(board)"
   ]
  },
  {
   "cell_type": "markdown",
   "metadata": {},
   "source": [
    "## Augmented assignment with sequences\n",
    "\n",
    "The augmented assignment operators += and *= behave very differently depending on the first operand. For example, the special method that makes += work is __iadd__ (for “in-place addition”). However, if __iadd__ is not implemented, Python falls back to calling __add__. Consider this simple expression:"
   ]
  },
  {
   "cell_type": "code",
   "execution_count": null,
   "metadata": {
    "collapsed": true
   },
   "outputs": [],
   "source": [
    "a+=b\n",
    "#for mutable equivalent to:\n",
    "a.extend(b) # original object modified\n",
    "#for immutable equivalent to:\n",
    "a = a + b # new object created"
   ]
  },
  {
   "cell_type": "code",
   "execution_count": 51,
   "metadata": {
    "collapsed": false
   },
   "outputs": [
    {
     "name": "stdout",
     "output_type": "stream",
     "text": [
      "[1, 2, 3]\n",
      "4409327496\n",
      "[1, 2, 3, 1, 2, 3]\n",
      "4409327496\n",
      "4408207184\n",
      "4408247304\n"
     ]
    }
   ],
   "source": [
    "#list i.e. mutable\n",
    "l=[1,2,3]\n",
    "print(l)\n",
    "#original ID\n",
    "print(id(l))\n",
    "l*=2\n",
    "# original is modified - i.e. inplace operand\n",
    "print(l)\n",
    "print(id(l))\n",
    "#using a tuple - i.e. immutable\n",
    "t=(1,2,3)\n",
    "#original ID\n",
    "print(id(t))\n",
    "#operating\n",
    "t *=2\n",
    "#note new ID\n",
    "print(id(t))"
   ]
  },
  {
   "cell_type": "markdown",
   "metadata": {},
   "source": [
    "## list.sort and the sorted built-in function\n",
    "\n",
    "The list.sort method sorts a list in-place, that is, without making a copy. It returns None to remind us that it changes the target object, and does not create a new list. In contrast, the built-in function sorted creates a new list and returns it."
   ]
  },
  {
   "cell_type": "code",
   "execution_count": 54,
   "metadata": {
    "collapsed": false
   },
   "outputs": [
    {
     "name": "stdout",
     "output_type": "stream",
     "text": [
      "['apple', 'banana', 'grape', 'raspberry']\n",
      "['grape', 'raspberry', 'apple', 'banana']\n",
      "['raspberry', 'grape', 'banana', 'apple']\n",
      "['grape', 'apple', 'banana', 'raspberry']\n",
      "['raspberry', 'banana', 'grape', 'apple']\n",
      "['grape', 'raspberry', 'apple', 'banana']\n",
      "['apple', 'banana', 'grape', 'raspberry']\n"
     ]
    }
   ],
   "source": [
    "fruits = ['grape', 'raspberry', 'apple', 'banana']\n",
    "#alphabetised new list\n",
    "print(sorted(fruits))\n",
    "#original\n",
    "print(fruits)\n",
    "#backwards new list\n",
    "print(sorted(fruits, reverse=True))\n",
    "#sorted by length new list\n",
    "print(sorted(fruits, key=len))\n",
    "#backwards by length new list\n",
    "print(sorted(fruits, key=len, reverse=True))\n",
    "#original again\n",
    "print(fruits)\n",
    "# sorting in place\n",
    "fruits.sort()\n",
    "#original is now sorted\n",
    "print(fruits)"
   ]
  },
  {
   "cell_type": "markdown",
   "metadata": {},
   "source": [
    "### Searching with bisect\n",
    "\n"
   ]
  },
  {
   "cell_type": "code",
   "execution_count": 61,
   "metadata": {
    "collapsed": false
   },
   "outputs": [
    {
     "name": "stdout",
     "output_type": "stream",
     "text": [
      "DEMO: bisect\n",
      "haystack ->  1  4  5  6  8 12 15 20 21 23 23 26 29 30\n",
      "31 @ 14      |  |  |  |  |  |  |  |  |  |  |  |  |  |31\n",
      "30 @ 14      |  |  |  |  |  |  |  |  |  |  |  |  |  |30\n",
      "29 @ 13      |  |  |  |  |  |  |  |  |  |  |  |  |29\n",
      "23 @ 11      |  |  |  |  |  |  |  |  |  |  |23\n",
      "22 @  9      |  |  |  |  |  |  |  |  |22\n",
      "10 @  5      |  |  |  |  |10\n",
      " 8 @  5      |  |  |  |  |8 \n",
      " 5 @  3      |  |  |5 \n",
      " 2 @  1      |2 \n",
      " 1 @  1      |1 \n",
      " 0 @  0    0 \n"
     ]
    },
    {
     "data": {
      "text/plain": [
       "['F', 'A', 'C', 'C', 'B', 'A', 'A']"
      ]
     },
     "execution_count": 61,
     "metadata": {},
     "output_type": "execute_result"
    }
   ],
   "source": [
    "import bisect\n",
    "import sys\n",
    "\n",
    "HAYSTACK = [1, 4, 5, 6, 8, 12, 15, 20, 21, 23, 23, 26, 29, 30]\n",
    "NEEDLES = [0, 1, 2, 5, 8, 10, 22, 23, 29, 30, 31]\n",
    "\n",
    "ROW_FMT = '{0:2d} @ {1:2d}    {2}{0:<2d}'\n",
    "\n",
    "def demo(bisect_fn):\n",
    "    for needle in reversed(NEEDLES):\n",
    "        #Use the chosen bisect function to get the insertion point.\n",
    "        position = bisect_fn(HAYSTACK, needle)\n",
    "        #Build a pattern of vertical bars proportional to the offset.\n",
    "        offset = position * '  |' \n",
    "        #Print formatted row showing needle and insertion point.\n",
    "        print(ROW_FMT.format(needle, position, offset))\n",
    "        \n",
    "if __name__ == '__main__':\n",
    "    \n",
    "    #Choose the bisect function to use according to the last command line argument.\n",
    "    if sys.argv[-1] == 'left':\n",
    "        bisect_fn = bisect.bisect_left \n",
    "    else:\n",
    "        bisect_fn = bisect.bisect\n",
    "    \n",
    "    #Print header with name of function selected.\n",
    "    print('DEMO:', bisect_fn.__name__)\n",
    "    print('haystack ->', ' '.join('%2d' % n for n in HAYSTACK)) \n",
    "    demo(bisect_fn)\n",
    "\n",
    "# Given a test score, grade returns the corresponding letter grade.\n",
    "def grade(score, breakpoints=[60, 70, 80, 90], grades='FDCBA'):\n",
    "    i = bisect.bisect(breakpoints, score)\n",
    "    return grades[i]\n",
    "[grade(score) for score in [33, 99, 77, 70, 89, 90, 100]]"
   ]
  },
  {
   "cell_type": "code",
   "execution_count": 65,
   "metadata": {
    "collapsed": false,
    "scrolled": true
   },
   "outputs": [
    {
     "name": "stdout",
     "output_type": "stream",
     "text": [
      "20 -> [20]\n",
      " 1 -> [1, 20]\n",
      "13 -> [1, 13, 20]\n",
      "16 -> [1, 13, 16, 20]\n",
      "14 -> [1, 13, 14, 16, 20]\n",
      " 5 -> [1, 5, 13, 14, 16, 20]\n",
      "21 -> [1, 5, 13, 14, 16, 20, 21]\n",
      " 1 -> [1, 1, 5, 13, 14, 16, 20, 21]\n",
      " 5 -> [1, 1, 5, 5, 13, 14, 16, 20, 21]\n",
      "27 -> [1, 1, 5, 5, 13, 14, 16, 20, 21, 27]\n",
      " 9 -> [1, 1, 5, 5, 9, 13, 14, 16, 20, 21, 27]\n",
      "16 -> [1, 1, 5, 5, 9, 13, 14, 16, 16, 20, 21, 27]\n",
      "11 -> [1, 1, 5, 5, 9, 11, 13, 14, 16, 16, 20, 21, 27]\n",
      "27 -> [1, 1, 5, 5, 9, 11, 13, 14, 16, 16, 20, 21, 27, 27]\n"
     ]
    }
   ],
   "source": [
    "import bisect\n",
    "import random\n",
    "SIZE=14\n",
    "\n",
    "random.seed(1729)\n",
    "my_list = []\n",
    "for i in range(SIZE):\n",
    "    #create a new number from range SIZE * 2\n",
    "    new_item = random.randrange(SIZE*2)\n",
    "    # insert into list, in correct order\n",
    "    bisect.insort(my_list, new_item)\n",
    "    print('%2d ->' % new_item, my_list)"
   ]
  },
  {
   "cell_type": "markdown",
   "metadata": {},
   "source": [
    "## When a list is not the answer\n",
    "The list type is flexible and easy to use, but depending on specific requirements there are better options. \n",
    "\n",
    "For example, if you need to store 10 million of floating point values an **array** is much more efficient, because an array does not actually hold full-fledged float objects, but only the packed bytes representing their machine values — just like an array in the C language. \n",
    "\n",
    "On the other hand, if you are constantly adding and removing items from the ends of a list as a FIFO or LIFO data structure, a **deque** (double-ended queue) works faster.\n",
    "\n",
    "### Arrays\n",
    "\n",
    "If all you want to put in the list are numbers, an array.array is more efficient than a list: it supports all mutable sequence operations (including .pop, .insert and .ex tend), and additional methods for fast loading and saving such as .frombytes and .tofile.\n",
    "\n",
    "Saving with array.tofile is about 7 times faster than writing one float per line in a text file. In addition, the size of the binary file with 10 million doubles is 80,000,000 bytes (8 bytes per double, zero overhead), while the text file has 181,515,739 bytes, for the same data."
   ]
  },
  {
   "cell_type": "code",
   "execution_count": 66,
   "metadata": {
    "collapsed": false
   },
   "outputs": [
    {
     "name": "stdout",
     "output_type": "stream",
     "text": [
      "0.5243459839714878\n",
      "0.5243459839714878\n",
      "True\n"
     ]
    }
   ],
   "source": [
    "from array import array\n",
    "from random import random\n",
    "# create an array of double-precision floats (typecode 'd') from any iterable\n",
    "object, in this case a generator expression;\n",
    "floats = array('d', (random() for i in range(10**7)))\n",
    "#inspect the last number in the array;\n",
    "print(floats[-1])\n",
    "fp = open('floats.bin', 'wb')\n",
    "#save the array to a binary file;\n",
    "floats.tofile(fp)\n",
    "fp.close()\n",
    "floats2 = array('d')\n",
    "fp = open('floats.bin', 'rb')\n",
    "#create an empty array of doubles;\n",
    "floats2.fromfile(fp, 10**7)\n",
    "fp.close()\n",
    "#inspect the last number in the array;\n",
    "print(floats2[-1])\n",
    "#check floats match\n",
    "print(floats2 == floats)"
   ]
  },
  {
   "cell_type": "markdown",
   "metadata": {},
   "source": [
    "## Memory views\n",
    "\n",
    "The built-in memorview class is a shared-memory sequence type that lets you handle slices of arrays without copying bytes. A memoryview is essentially a generalized NumPy array structure in Python itself (without the math). It allows you to share memory between data-structures (things like PIL images, SQLlite databases, NumPy arrays, etc.) without first copying. This is very important for large data sets."
   ]
  },
  {
   "cell_type": "code",
   "execution_count": 76,
   "metadata": {
    "collapsed": false
   },
   "outputs": [
    {
     "name": "stdout",
     "output_type": "stream",
     "text": [
      "5\n",
      "-2\n",
      "[254, 255, 255, 255, 0, 0, 1, 0, 2, 0]\n",
      "0\n",
      "<memory at 0x106d1b048>\n",
      "array('h', [-2, -1, 1024, 1, 2])\n"
     ]
    }
   ],
   "source": [
    "from array import array\n",
    "\n",
    "numbers = array('h', [-2, -1, 0, 1, 2])\n",
    "memv = memoryview(numbers)\n",
    "print(len(memv))\n",
    "print(memv[0])\n",
    "memv_oct = memv.cast('B')\n",
    "print(memv_oct.tolist())\n",
    "print(memv_oct[5])\n",
    "memv_oct[5] = 4\n",
    "print(numbers)"
   ]
  },
  {
   "cell_type": "code",
   "execution_count": 77,
   "metadata": {
    "collapsed": false
   },
   "outputs": [
    {
     "name": "stdout",
     "output_type": "stream",
     "text": [
      "[ 0  1  2  3  4  5  6  7  8  9 10 11]\n",
      "(12,)\n",
      "[[ 0  1  2  3]\n",
      " [ 4  5  6  7]\n",
      " [ 8  9 10 11]]\n",
      "[ 8  9 10 11]\n",
      "9\n",
      "[1 5 9]\n",
      "[[ 0  4  8]\n",
      " [ 1  5  9]\n",
      " [ 2  6 10]\n",
      " [ 3  7 11]]\n"
     ]
    }
   ],
   "source": [
    "import numpy\n",
    "a = numpy.arange(12)\n",
    "print(a) \n",
    "type(a)\n",
    "print(a.shape)\n",
    "a.shape = 3, 4\n",
    "print(a)\n",
    "print(a[2])\n",
    "print(a[2,1])\n",
    "print(a[:, 1])\n",
    "print(a.transpose())"
   ]
  },
  {
   "cell_type": "markdown",
   "metadata": {},
   "source": [
    "## Deques and other queues\n",
    "\n",
    "The .append and .pop methods make a list usable as a stack or a queue (if you use .append and .pop(0), you get LIFO behavior). But inserting and removing from the left of a list (the 0-index end) is costly because the entire list must be shifted.\n",
    "\n",
    "The class collections.deque is a thread-safe double-ended queue designed for fast inserting and removing from both ends. It is also the way to go if you need to keep a list of “last seen items” or something like that, because a deque can be bounded — i.e. created with a maximum length and then, when it is full, it discards items from the opposite end when you append new ones."
   ]
  },
  {
   "cell_type": "code",
   "execution_count": 78,
   "metadata": {
    "collapsed": false
   },
   "outputs": [
    {
     "name": "stdout",
     "output_type": "stream",
     "text": [
      "deque([0, 1, 2, 3, 4, 5, 6, 7, 8, 9], maxlen=10)\n",
      "deque([7, 8, 9, 0, 1, 2, 3, 4, 5, 6], maxlen=10)\n",
      "deque([1, 2, 3, 4, 5, 6, 7, 8, 9, 0], maxlen=10)\n",
      "deque([-1, 1, 2, 3, 4, 5, 6, 7, 8, 9], maxlen=10)\n",
      "deque([3, 4, 5, 6, 7, 8, 9, 11, 22, 33], maxlen=10)\n",
      "deque([40, 30, 20, 10, 3, 4, 5, 6, 7, 8], maxlen=10)\n"
     ]
    }
   ],
   "source": [
    "from collections import deque\n",
    "dq = deque(range(10), maxlen=10)\n",
    "print(dq)\n",
    "#shift the list by 3\n",
    "dq.rotate(3)\n",
    "print(dq)\n",
    "# move the list back 4\n",
    "dq.rotate(-4)\n",
    "print(dq)\n",
    "# add -1 to the left of the list\n",
    "dq.appendleft(-1)\n",
    "print(dq)\n",
    "# add values to the end\n",
    "dq.extend([11, 22, 33])\n",
    "print(dq)\n",
    "# extend by values at the beginning\n",
    "dq.extendleft([10, 20, 30, 40])\n",
    "print(dq)"
   ]
  },
  {
   "cell_type": "markdown",
   "metadata": {},
   "source": [
    "Besides deque, other Python Standard Library packages implement queues:\n",
    "\n",
    "-  **queue**: Provides the synchronized (i.e. thread-safe) classes Queue, LifoQueue and Priori tyQueue. These are used for safe communication between threads. All three classes can be bounded by providing a maxsize argument greater than 0 to the constructor. However, they don’t discard items to make room as deque does. Instead, when the queue is full the insertion of a new item blocks — i.e. it waits until some other thread makes room by taking an item from the queue, which is useful to throttle the num‐ ber of live threads.\n",
    "-  **multiprocessing**: Implements its own bounded Queue, very similar to queue.Queue but designed for inter-process communication. There is also has a specialized multiprocess ing.JoinableQueue for easier task management.\n",
    "-  **asyncio**: Newly added to Python 3.4, asyncio provides Queue, LifoQueue, PriorityQueue and JoinableQueue with APIs inspired by the classes in queue and multiprocess ing, but adapted for managing tasks in asynchronous programming.\n",
    "-  **heapq**: In contrast to the previous three modules, heapq does not implement a queue class, but provides functions like heappush and heappop that let you use a mutable se‐ quence as a heap queue or priority queue"
   ]
  },
  {
   "cell_type": "code",
   "execution_count": null,
   "metadata": {
    "collapsed": true
   },
   "outputs": [],
   "source": []
  }
 ],
 "metadata": {
  "kernelspec": {
   "display_name": "Python 3",
   "language": "python",
   "name": "python3"
  },
  "language_info": {
   "codemirror_mode": {
    "name": "ipython",
    "version": 3
   },
   "file_extension": ".py",
   "mimetype": "text/x-python",
   "name": "python",
   "nbconvert_exporter": "python",
   "pygments_lexer": "ipython3",
   "version": "3.6.0"
  }
 },
 "nbformat": 4,
 "nbformat_minor": 2
}
